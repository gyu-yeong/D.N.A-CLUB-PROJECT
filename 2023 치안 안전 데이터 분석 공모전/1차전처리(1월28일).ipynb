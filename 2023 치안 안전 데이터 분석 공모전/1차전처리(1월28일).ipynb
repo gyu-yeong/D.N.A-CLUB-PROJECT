{
 "cells": [
  {
   "cell_type": "markdown",
   "id": "9f51fabc",
   "metadata": {},
   "source": [
    "### 1. 2020, 2021 데이터 병합\n",
    "### 2.  사건종별 칼럼 중, 교통 사고 관련 인덱스만 불러오기\n",
    "### 3. 각 칼럼별 unique() 확인"
   ]
  },
  {
   "cell_type": "code",
   "execution_count": 1,
   "id": "76daac1f",
   "metadata": {},
   "outputs": [
    {
     "name": "stderr",
     "output_type": "stream",
     "text": [
      "C:\\Users\\user\\anaconda3\\lib\\site-packages\\scipy\\__init__.py:138: UserWarning: A NumPy version >=1.16.5 and <1.23.0 is required for this version of SciPy (detected version 1.24.1)\n",
      "  warnings.warn(f\"A NumPy version >={np_minversion} and <{np_maxversion} is required for this version of \"\n"
     ]
    }
   ],
   "source": [
    "import pandas as pd\n",
    "import numpy as np"
   ]
  },
  {
   "cell_type": "code",
   "execution_count": 138,
   "id": "7566abe9",
   "metadata": {},
   "outputs": [],
   "source": [
    "df1 = pd.read_csv(\"D:/치안빅데이터/데이터/KP2020.csv\", encoding='euc-kr')\n",
    "df2 = pd.read_csv(\"D:/치안빅데이터/데이터/KP2021.csv\", encoding='euc-kr')\n",
    "\n",
    "\n",
    "def code(df1,df2):\n",
    "\n",
    "    df3 = pd.concat([df1,df2], axis=0)\n",
    "    df3 = df3.reset_index(drop=True)\n",
    "\n",
    "    col = ['접수부서', '접수완료일시', '경찰청구분', '사건상태', '사건종별',\n",
    "           '신고성별', '발생지점', '발생좌표x', '발생좌표y', '동일사건여부']\n",
    "\n",
    "    df3.columns = col\n",
    "    \n",
    "    tram = df3[df3['사건종별'].isin([401, 402, 403, 404, 405,406])]\n",
    "    tram = tram.reset_index(drop=True)\n",
    "\n",
    "    return(tram)\n",
    "\n",
    "tram = code(df1,df2)"
   ]
  },
  {
   "cell_type": "code",
   "execution_count": 15,
   "id": "43b3fbde",
   "metadata": {},
   "outputs": [
    {
     "data": {
      "text/plain": [
       "(287669, 10)"
      ]
     },
     "execution_count": 15,
     "metadata": {},
     "output_type": "execute_result"
    }
   ],
   "source": [
    "tram.shape"
   ]
  },
  {
   "cell_type": "code",
   "execution_count": 139,
   "id": "23f8d7ce",
   "metadata": {},
   "outputs": [
    {
     "data": {
      "text/plain": [
       "접수부서           0\n",
       "접수완료일시         0\n",
       "경찰청구분          0\n",
       "사건상태           0\n",
       "사건종별           0\n",
       "신고성별           0\n",
       "발생지점        7478\n",
       "발생좌표x       1866\n",
       "발생좌표y       1866\n",
       "동일사건여부    218799\n",
       "dtype: int64"
      ]
     },
     "execution_count": 139,
     "metadata": {},
     "output_type": "execute_result"
    }
   ],
   "source": [
    "tram.isnull().sum()"
   ]
  },
  {
   "cell_type": "code",
   "execution_count": 16,
   "id": "50f97a50",
   "metadata": {},
   "outputs": [
    {
     "name": "stdout",
     "output_type": "stream",
     "text": [
      "칼럼명: 접수부서\n",
      "----------------------------------------------------------------------------------------------------\n",
      "['충남청' '대전청' '2지구대(충남)' '대전파출소' '대전중부' '대전유성' '서대전지구대' '남대전지구대' '대전역지구대'\n",
      " '세종' '대전동부' '세종청' '대전둔산' '대전대덕' '세종로파출소' '대전서부' '세종서' '대전동부서' '대전서부서'\n",
      " '대전중부서' '대전둔산서' '대전유성서' '대전대덕서' '세종남부서' '세종북부서' '세종대왕파출소']\n",
      "----------------------------------------------------------------------------------------------------\n",
      "칼럼명: 접수완료일시\n",
      "----------------------------------------------------------------------------------------------------\n",
      "['20/12/01 08:17:50.000000000' '20/12/01 03:24:26.000000000'\n",
      " '20/12/01 07:37:18.000000000' ... '23/01/14 01:02:48.000000000'\n",
      " '23/01/14 17:35:38.000000000' '23/01/15 01:13:20.000000000']\n",
      "----------------------------------------------------------------------------------------------------\n",
      "칼럼명: 경찰청구분\n",
      "----------------------------------------------------------------------------------------------------\n",
      "[19 13 31 21 11 18 15 20 10 16  8 17 22 23 12 14  9 24]\n",
      "----------------------------------------------------------------------------------------------------\n",
      "칼럼명: 사건상태\n",
      "----------------------------------------------------------------------------------------------------\n",
      "[10  3  5  2  9]\n",
      "----------------------------------------------------------------------------------------------------\n",
      "칼럼명: 사건종별\n",
      "----------------------------------------------------------------------------------------------------\n",
      "[401 406 402 403 405 404]\n",
      "----------------------------------------------------------------------------------------------------\n",
      "칼럼명: 신고성별\n",
      "----------------------------------------------------------------------------------------------------\n",
      "[2. 1. 3.]\n",
      "----------------------------------------------------------------------------------------------------\n",
      "칼럼명: 발생지점\n",
      "----------------------------------------------------------------------------------------------------\n",
      "['충청남도 천안시 서북구 성정동(행정:성정2동) 1259' '대전광역시 유성구 봉명동(행정:온천1동) 575'\n",
      " '충청남도 천안시 서북구 성환읍 성월리(행정:성환읍) 150' ... '충청남도 아산시 음봉면 산동리(행정:음봉면 ) 932'\n",
      " '충청남도 공주시 신관동 (행정:신관동 ) 383-4' '충청남도 태안군 근흥면 두야리(근흥면 ) 246-2']\n",
      "----------------------------------------------------------------------------------------------------\n",
      "칼럼명: 발생좌표x\n",
      "----------------------------------------------------------------------------------------------------\n",
      "[127.13716    127.34155058 127.136142   ... 127.132811   126.262393\n",
      " 127.14767819]\n",
      "----------------------------------------------------------------------------------------------------\n",
      "칼럼명: 발생좌표y\n",
      "----------------------------------------------------------------------------------------------------\n",
      "[36.826718   36.35369614 36.9179     ... 36.8288648  36.473014\n",
      " 36.78912472]\n",
      "----------------------------------------------------------------------------------------------------\n",
      "칼럼명: 동일사건여부\n",
      "----------------------------------------------------------------------------------------------------\n",
      "[nan 'Y' 'N']\n",
      "----------------------------------------------------------------------------------------------------\n"
     ]
    }
   ],
   "source": [
    "for i in tram.columns:\n",
    "    print('칼럼명:',i)\n",
    "    print('-'*100)\n",
    "    \n",
    "    print(tram[i].unique())\n",
    "    print('-'*100)"
   ]
  },
  {
   "cell_type": "markdown",
   "id": "e478b42f",
   "metadata": {},
   "source": [
    "### 4. 필요 컬럼 생성\n",
    "#### (1) 접수완요일시 세분화 (연,월,일, 시간)\n",
    "#### (2) 접수지역 세분화 (발생시, 동, 구)"
   ]
  },
  {
   "cell_type": "markdown",
   "id": "0437dae6",
   "metadata": {},
   "source": [
    "#### (1) 접수완료일시 세분화"
   ]
  },
  {
   "cell_type": "code",
   "execution_count": 140,
   "id": "68ec6690",
   "metadata": {},
   "outputs": [],
   "source": [
    "def time_split(tram):\n",
    "    \n",
    "    # 접수 연,월,일, 시간 세분화\n",
    "    tram['접수완료날짜'] = tram['접수완료일시'].str.split(' ').str[0]\n",
    "    tram['접수완료시간대'] = tram['접수완료일시'].str.split(' ').str[1]\n",
    "    \n",
    "    tram['접수연도'] = tram['접수완료날짜'].str.split('/').str[0]\n",
    "    tram['접수월'] = tram['접수완료날짜'].str.split('/').str[1]\n",
    "    tram['접수일자'] = tram['접수완료날짜'].str.split('/').str[2]\n",
    "    \n",
    "    tram['접수완료시간'] = tram['접수완료시간대'].str.split(':').str[0]\n",
    "    tram['접수완료시간대'] = tram['접수완료시간대'].str.split('.').str[0]\n",
    "    tram = tram.drop(columns='접수완료일시',axis=1)\n",
    "    \n",
    "    return(tram)"
   ]
  },
  {
   "cell_type": "code",
   "execution_count": 141,
   "id": "bcbcc433",
   "metadata": {},
   "outputs": [
    {
     "data": {
      "text/html": [
       "<div>\n",
       "<style scoped>\n",
       "    .dataframe tbody tr th:only-of-type {\n",
       "        vertical-align: middle;\n",
       "    }\n",
       "\n",
       "    .dataframe tbody tr th {\n",
       "        vertical-align: top;\n",
       "    }\n",
       "\n",
       "    .dataframe thead th {\n",
       "        text-align: right;\n",
       "    }\n",
       "</style>\n",
       "<table border=\"1\" class=\"dataframe\">\n",
       "  <thead>\n",
       "    <tr style=\"text-align: right;\">\n",
       "      <th></th>\n",
       "      <th>접수부서</th>\n",
       "      <th>경찰청구분</th>\n",
       "      <th>사건상태</th>\n",
       "      <th>사건종별</th>\n",
       "      <th>신고성별</th>\n",
       "      <th>발생지점</th>\n",
       "      <th>발생좌표x</th>\n",
       "      <th>발생좌표y</th>\n",
       "      <th>동일사건여부</th>\n",
       "      <th>접수완료날짜</th>\n",
       "      <th>접수완료시간대</th>\n",
       "      <th>접수연도</th>\n",
       "      <th>접수월</th>\n",
       "      <th>접수일자</th>\n",
       "      <th>접수완료시간</th>\n",
       "    </tr>\n",
       "  </thead>\n",
       "  <tbody>\n",
       "    <tr>\n",
       "      <th>0</th>\n",
       "      <td>충남청</td>\n",
       "      <td>19</td>\n",
       "      <td>10</td>\n",
       "      <td>401</td>\n",
       "      <td>2.0</td>\n",
       "      <td>충청남도 천안시 서북구 성정동(행정:성정2동) 1259</td>\n",
       "      <td>127.137160</td>\n",
       "      <td>36.826718</td>\n",
       "      <td>NaN</td>\n",
       "      <td>20/12/01</td>\n",
       "      <td>08:17:50</td>\n",
       "      <td>20</td>\n",
       "      <td>12</td>\n",
       "      <td>01</td>\n",
       "      <td>08</td>\n",
       "    </tr>\n",
       "    <tr>\n",
       "      <th>1</th>\n",
       "      <td>대전청</td>\n",
       "      <td>13</td>\n",
       "      <td>10</td>\n",
       "      <td>406</td>\n",
       "      <td>1.0</td>\n",
       "      <td>대전광역시 유성구 봉명동(행정:온천1동) 575</td>\n",
       "      <td>127.341551</td>\n",
       "      <td>36.353696</td>\n",
       "      <td>NaN</td>\n",
       "      <td>20/12/01</td>\n",
       "      <td>03:24:26</td>\n",
       "      <td>20</td>\n",
       "      <td>12</td>\n",
       "      <td>01</td>\n",
       "      <td>03</td>\n",
       "    </tr>\n",
       "    <tr>\n",
       "      <th>2</th>\n",
       "      <td>충남청</td>\n",
       "      <td>19</td>\n",
       "      <td>10</td>\n",
       "      <td>402</td>\n",
       "      <td>1.0</td>\n",
       "      <td>충청남도 천안시 서북구 성환읍 성월리(행정:성환읍) 150</td>\n",
       "      <td>127.136142</td>\n",
       "      <td>36.917900</td>\n",
       "      <td>NaN</td>\n",
       "      <td>20/12/01</td>\n",
       "      <td>07:37:18</td>\n",
       "      <td>20</td>\n",
       "      <td>12</td>\n",
       "      <td>01</td>\n",
       "      <td>07</td>\n",
       "    </tr>\n",
       "    <tr>\n",
       "      <th>3</th>\n",
       "      <td>대전청</td>\n",
       "      <td>13</td>\n",
       "      <td>10</td>\n",
       "      <td>401</td>\n",
       "      <td>1.0</td>\n",
       "      <td>대전광역시 중구 석교동(석교동) 85-14</td>\n",
       "      <td>127.447545</td>\n",
       "      <td>36.306724</td>\n",
       "      <td>NaN</td>\n",
       "      <td>20/12/01</td>\n",
       "      <td>07:08:44</td>\n",
       "      <td>20</td>\n",
       "      <td>12</td>\n",
       "      <td>01</td>\n",
       "      <td>07</td>\n",
       "    </tr>\n",
       "    <tr>\n",
       "      <th>4</th>\n",
       "      <td>대전청</td>\n",
       "      <td>13</td>\n",
       "      <td>10</td>\n",
       "      <td>401</td>\n",
       "      <td>2.0</td>\n",
       "      <td>대전광역시 중구 석교동(행정:석교동) 88-11</td>\n",
       "      <td>127.447175</td>\n",
       "      <td>36.306694</td>\n",
       "      <td>NaN</td>\n",
       "      <td>20/12/01</td>\n",
       "      <td>07:09:20</td>\n",
       "      <td>20</td>\n",
       "      <td>12</td>\n",
       "      <td>01</td>\n",
       "      <td>07</td>\n",
       "    </tr>\n",
       "  </tbody>\n",
       "</table>\n",
       "</div>"
      ],
      "text/plain": [
       "  접수부서  경찰청구분  사건상태  사건종별  신고성별                              발생지점       발생좌표x  \\\n",
       "0  충남청     19    10   401   2.0    충청남도 천안시 서북구 성정동(행정:성정2동) 1259  127.137160   \n",
       "1  대전청     13    10   406   1.0        대전광역시 유성구 봉명동(행정:온천1동) 575  127.341551   \n",
       "2  충남청     19    10   402   1.0  충청남도 천안시 서북구 성환읍 성월리(행정:성환읍) 150  127.136142   \n",
       "3  대전청     13    10   401   1.0           대전광역시 중구 석교동(석교동) 85-14  127.447545   \n",
       "4  대전청     13    10   401   2.0        대전광역시 중구 석교동(행정:석교동) 88-11  127.447175   \n",
       "\n",
       "       발생좌표y 동일사건여부    접수완료날짜   접수완료시간대 접수연도 접수월 접수일자 접수완료시간  \n",
       "0  36.826718    NaN  20/12/01  08:17:50   20  12   01     08  \n",
       "1  36.353696    NaN  20/12/01  03:24:26   20  12   01     03  \n",
       "2  36.917900    NaN  20/12/01  07:37:18   20  12   01     07  \n",
       "3  36.306724    NaN  20/12/01  07:08:44   20  12   01     07  \n",
       "4  36.306694    NaN  20/12/01  07:09:20   20  12   01     07  "
      ]
     },
     "execution_count": 141,
     "metadata": {},
     "output_type": "execute_result"
    }
   ],
   "source": [
    "tram = time_split(tram)\n",
    "tram.head()"
   ]
  },
  {
   "cell_type": "markdown",
   "id": "166667cd",
   "metadata": {},
   "source": [
    "#### 지역세분화 형식\n",
    "#### (1) 광역시/도       (2) 시군구             (3) 읍면동\n",
    "#### 열  대전,충남,세종      유성구, 천안시         온천동, 불당동, 조치원읍\n",
    "#### 이런 형식"
   ]
  },
  {
   "cell_type": "code",
   "execution_count": 47,
   "id": "4994ae65",
   "metadata": {},
   "outputs": [
    {
     "data": {
      "text/plain": [
       "271608"
      ]
     },
     "execution_count": 47,
     "metadata": {},
     "output_type": "execute_result"
    }
   ],
   "source": [
    "c = tram['발생지점'].str.split(' ').str[0] == '충청남도'\n",
    "b = tram['발생지점'].str.split(' ').str[0] == '대전광역시'\n",
    "a = tram['발생지점'].str.split(' ').str[0] == '세종특별자치시'\n",
    "\n",
    "tram[a].shape[0] + tram[b].shape[0] + tram[c].shape[0] "
   ]
  },
  {
   "cell_type": "markdown",
   "id": "1fb912ce",
   "metadata": {},
   "source": [
    "#### 충청남도, 대전광역시, 세종특별자치시를 합쳤을때 열이 27만개인데 기존 열 개수가 약 28만개로 약 1만개의 잘못된 데이터 존재!\n",
    "#### 가령 발생지점이 충남지역이 아니라던가, 충청남도, 대전광역시가 아닌 충남, 대전으로 표기된 경우!"
   ]
  },
  {
   "cell_type": "markdown",
   "id": "99104fa8",
   "metadata": {},
   "source": [
    "#### 방법1: 일단 먼저 split해서 광역시/도, 시군구, 읍면동 칼럼 생성 후, 특이한 이름들이 왜나왔는지 살펴본다\n",
    "#### 방법2: 데이터가 약 27만개이므로 광역시/도가 호서 지역 관련이 아니면서 데이터가 100개 미만인 데이터는 지운다 "
   ]
  },
  {
   "cell_type": "code",
   "execution_count": 96,
   "id": "ca0b9751",
   "metadata": {},
   "outputs": [
    {
     "data": {
      "text/html": [
       "<div>\n",
       "<style scoped>\n",
       "    .dataframe tbody tr th:only-of-type {\n",
       "        vertical-align: middle;\n",
       "    }\n",
       "\n",
       "    .dataframe tbody tr th {\n",
       "        vertical-align: top;\n",
       "    }\n",
       "\n",
       "    .dataframe thead th {\n",
       "        text-align: right;\n",
       "    }\n",
       "</style>\n",
       "<table border=\"1\" class=\"dataframe\">\n",
       "  <thead>\n",
       "    <tr style=\"text-align: right;\">\n",
       "      <th></th>\n",
       "      <th>충청남도</th>\n",
       "      <th>대전광역시</th>\n",
       "      <th>세종특별자치시</th>\n",
       "      <th>대전</th>\n",
       "      <th>경기도</th>\n",
       "      <th>충청북도</th>\n",
       "      <th>충남</th>\n",
       "      <th>전라북도</th>\n",
       "      <th>전라남도</th>\n",
       "      <th>서울특별시</th>\n",
       "      <th>경상북도</th>\n",
       "      <th>인천광역시</th>\n",
       "      <th>대구광역시</th>\n",
       "      <th>강원도</th>\n",
       "      <th>경상남도</th>\n",
       "      <th>부산광역시</th>\n",
       "      <th>광주광역시</th>\n",
       "      <th>제주특별자치도</th>\n",
       "      <th>[공중전화]</th>\n",
       "      <th>[이관주소]</th>\n",
       "    </tr>\n",
       "  </thead>\n",
       "  <tbody>\n",
       "    <tr>\n",
       "      <th>빈도</th>\n",
       "      <td>155424</td>\n",
       "      <td>99154</td>\n",
       "      <td>17030</td>\n",
       "      <td>4259</td>\n",
       "      <td>1376</td>\n",
       "      <td>1156</td>\n",
       "      <td>570</td>\n",
       "      <td>471</td>\n",
       "      <td>157</td>\n",
       "      <td>135</td>\n",
       "      <td>60</td>\n",
       "      <td>52</td>\n",
       "      <td>40</td>\n",
       "      <td>31</td>\n",
       "      <td>26</td>\n",
       "      <td>25</td>\n",
       "      <td>21</td>\n",
       "      <td>18</td>\n",
       "      <td>18</td>\n",
       "      <td>18</td>\n",
       "    </tr>\n",
       "  </tbody>\n",
       "</table>\n",
       "</div>"
      ],
      "text/plain": [
       "      충청남도  대전광역시  세종특별자치시    대전   경기도  충청북도   충남  전라북도  전라남도  서울특별시  경상북도  \\\n",
       "빈도  155424  99154    17030  4259  1376  1156  570   471   157    135    60   \n",
       "\n",
       "    인천광역시  대구광역시  강원도  경상남도  부산광역시  광주광역시  제주특별자치도  [공중전화]  [이관주소]  \n",
       "빈도     52     40   31    26     25     21       18      18      18  "
      ]
     },
     "execution_count": 96,
     "metadata": {},
     "output_type": "execute_result"
    }
   ],
   "source": [
    "k = tram['발생지점'].str.split(' ').str[0]\n",
    "\n",
    "do = k.value_counts()\n",
    "do_df = pd.DataFrame({'빈도':do})\n",
    "do_df.head(20).T"
   ]
  },
  {
   "cell_type": "code",
   "execution_count": 101,
   "id": "a0d5ac1b",
   "metadata": {},
   "outputs": [
    {
     "data": {
      "text/html": [
       "<div>\n",
       "<style scoped>\n",
       "    .dataframe tbody tr th:only-of-type {\n",
       "        vertical-align: middle;\n",
       "    }\n",
       "\n",
       "    .dataframe tbody tr th {\n",
       "        vertical-align: top;\n",
       "    }\n",
       "\n",
       "    .dataframe thead th {\n",
       "        text-align: right;\n",
       "    }\n",
       "</style>\n",
       "<table border=\"1\" class=\"dataframe\">\n",
       "  <thead>\n",
       "    <tr style=\"text-align: right;\">\n",
       "      <th></th>\n",
       "      <th>천안시</th>\n",
       "      <th>서구</th>\n",
       "      <th>아산시</th>\n",
       "      <th>유성구</th>\n",
       "      <th>세종시</th>\n",
       "      <th>중구</th>\n",
       "      <th>동구</th>\n",
       "      <th>대덕구</th>\n",
       "      <th>당진시</th>\n",
       "      <th>서산시</th>\n",
       "      <th>...</th>\n",
       "      <th>부여군</th>\n",
       "      <th>계룡시</th>\n",
       "      <th>청양군</th>\n",
       "      <th>청주시</th>\n",
       "      <th>평택시</th>\n",
       "      <th>안성시</th>\n",
       "      <th>군산시</th>\n",
       "      <th>익산시</th>\n",
       "      <th>옥천군</th>\n",
       "      <th>담양군</th>\n",
       "    </tr>\n",
       "  </thead>\n",
       "  <tbody>\n",
       "    <tr>\n",
       "      <th>빈도</th>\n",
       "      <td>52926</td>\n",
       "      <td>33516</td>\n",
       "      <td>23810</td>\n",
       "      <td>23586</td>\n",
       "      <td>16834</td>\n",
       "      <td>16145</td>\n",
       "      <td>15563</td>\n",
       "      <td>14658</td>\n",
       "      <td>13938</td>\n",
       "      <td>12049</td>\n",
       "      <td>...</td>\n",
       "      <td>2644</td>\n",
       "      <td>1364</td>\n",
       "      <td>1261</td>\n",
       "      <td>817</td>\n",
       "      <td>661</td>\n",
       "      <td>288</td>\n",
       "      <td>158</td>\n",
       "      <td>152</td>\n",
       "      <td>148</td>\n",
       "      <td>115</td>\n",
       "    </tr>\n",
       "  </tbody>\n",
       "</table>\n",
       "<p>1 rows × 28 columns</p>\n",
       "</div>"
      ],
      "text/plain": [
       "      천안시     서구    아산시    유성구    세종시     중구     동구    대덕구    당진시    서산시  ...  \\\n",
       "빈도  52926  33516  23810  23586  16834  16145  15563  14658  13938  12049  ...   \n",
       "\n",
       "     부여군   계룡시   청양군  청주시  평택시  안성시  군산시  익산시  옥천군  담양군  \n",
       "빈도  2644  1364  1261  817  661  288  158  152  148  115  \n",
       "\n",
       "[1 rows x 28 columns]"
      ]
     },
     "execution_count": 101,
     "metadata": {},
     "output_type": "execute_result"
    }
   ],
   "source": [
    "k1 = tram['발생지점'].str.split(' ').str[1]\n",
    "\n",
    "do1 = k1.value_counts()\n",
    "do1_df = pd.DataFrame({'빈도':do1})\n",
    "do1_df[do1_df['빈도'] > 100].T"
   ]
  },
  {
   "cell_type": "code",
   "execution_count": 142,
   "id": "f3abd908",
   "metadata": {},
   "outputs": [],
   "source": [
    "tram['광역시/도'] = tram['발생지점'].str.split(' ').str[0]\n",
    "tram['시군구'] = tram['발생지점'].str.split(' ').str[1]\n",
    "tram['읍면동'] = tram['발생지점'].str.split(' ').str[2]"
   ]
  },
  {
   "cell_type": "markdown",
   "id": "1a6ed3e9",
   "metadata": {},
   "source": [
    "#### 방법1 적용\n",
    "#### [이관주소], [공중전화]가 있는 부분은 ex) [이관주소] 충청남도 천안시 ~~ 형식이므로 다르게 처리해줘야함!\n",
    "#### [이관주소], [공중전화]라는 단어를 공백으로 replace 한다!"
   ]
  },
  {
   "cell_type": "code",
   "execution_count": 144,
   "id": "f2b8d0dd",
   "metadata": {},
   "outputs": [],
   "source": [
    "tram['광역시/도'] = tram['광역시/도'].replace('[공중전화]','')\n",
    "tram['광역시/도'] = tram['광역시/도'].replace('[이관주소]','')"
   ]
  },
  {
   "cell_type": "markdown",
   "id": "760736d1",
   "metadata": {},
   "source": [
    "#### 방법2 적용 \n",
    "#### 발생지점의 띄어쓰기 기준 0번째 단어에 우리가 생각한건 충청남도, 대전광역시, 세종특별자치시인데 다른지역+이상한 글자도 있음\n",
    "#### 기본적으로 발생지점이 충남, 대전 지역이 아닌 곳은 다 지운다!"
   ]
  },
  {
   "cell_type": "code",
   "execution_count": 145,
   "id": "555d38c5",
   "metadata": {},
   "outputs": [],
   "source": [
    "# 호서 지역의 광역시/도만 불러옴 \n",
    "a1 = tram['광역시/도'] == '충청남도'\n",
    "a2 = tram['광역시/도'] == '대전광역시'\n",
    "a3 = tram['광역시/도'] == '세종특별자치시'\n",
    "a4 = tram['광역시/도'] == '대전'\n",
    "a5 = tram['광역시/도'] == '충남'\n",
    "\n",
    "tram = tram[a1|a2|a3|a4|a5]\n",
    "\n",
    "# 대전과 충남의 이름을 통일 \n",
    "tram['광역시/도'] = tram['광역시/도'].replace('대전','대전광역시')\n",
    "tram['광역시/도'] = tram['광역시/도'].replace('충남','충청남도')"
   ]
  },
  {
   "cell_type": "code",
   "execution_count": 129,
   "id": "1d2e411c",
   "metadata": {},
   "outputs": [
    {
     "data": {
      "text/plain": [
       "충청남도       155994\n",
       "대전광역시      103413\n",
       "세종특별자치시     17030\n",
       "Name: 광역시/도, dtype: int64"
      ]
     },
     "execution_count": 129,
     "metadata": {},
     "output_type": "execute_result"
    }
   ],
   "source": [
    "tram['광역시/도'].value_counts()"
   ]
  },
  {
   "cell_type": "code",
   "execution_count": 134,
   "id": "d772a797",
   "metadata": {},
   "outputs": [
    {
     "data": {
      "text/html": [
       "<div>\n",
       "<style scoped>\n",
       "    .dataframe tbody tr th:only-of-type {\n",
       "        vertical-align: middle;\n",
       "    }\n",
       "\n",
       "    .dataframe tbody tr th {\n",
       "        vertical-align: top;\n",
       "    }\n",
       "\n",
       "    .dataframe thead th {\n",
       "        text-align: right;\n",
       "    }\n",
       "</style>\n",
       "<table border=\"1\" class=\"dataframe\">\n",
       "  <thead>\n",
       "    <tr style=\"text-align: right;\">\n",
       "      <th></th>\n",
       "      <th>접수부서</th>\n",
       "      <th>경찰청구분</th>\n",
       "      <th>사건상태</th>\n",
       "      <th>사건종별</th>\n",
       "      <th>신고성별</th>\n",
       "      <th>발생지점</th>\n",
       "      <th>발생좌표x</th>\n",
       "      <th>발생좌표y</th>\n",
       "      <th>동일사건여부</th>\n",
       "      <th>접수완료날짜</th>\n",
       "      <th>접수완료시간대</th>\n",
       "      <th>접수연도</th>\n",
       "      <th>접수월</th>\n",
       "      <th>접수일자</th>\n",
       "      <th>접수완료시간</th>\n",
       "      <th>광역시/도</th>\n",
       "      <th>시군구</th>\n",
       "      <th>읍면동</th>\n",
       "    </tr>\n",
       "  </thead>\n",
       "  <tbody>\n",
       "    <tr>\n",
       "      <th>51917</th>\n",
       "      <td>충남청</td>\n",
       "      <td>31</td>\n",
       "      <td>10</td>\n",
       "      <td>401</td>\n",
       "      <td>1.0</td>\n",
       "      <td>세종특별자치시 세종특별자치시 다정동(새롬동) 22-8</td>\n",
       "      <td>127.243519</td>\n",
       "      <td>36.492812</td>\n",
       "      <td>NaN</td>\n",
       "      <td>21/05/14</td>\n",
       "      <td>20:05:43</td>\n",
       "      <td>21</td>\n",
       "      <td>05</td>\n",
       "      <td>14</td>\n",
       "      <td>20</td>\n",
       "      <td>세종특별자치시</td>\n",
       "      <td>세종특별자치시</td>\n",
       "      <td>다정동(새롬동)</td>\n",
       "    </tr>\n",
       "    <tr>\n",
       "      <th>63091</th>\n",
       "      <td>충남청</td>\n",
       "      <td>31</td>\n",
       "      <td>10</td>\n",
       "      <td>401</td>\n",
       "      <td>1.0</td>\n",
       "      <td>세종특별자치시 세종특별자치시 다정동(새롬동) 321-4</td>\n",
       "      <td>127.242981</td>\n",
       "      <td>36.495979</td>\n",
       "      <td>Y</td>\n",
       "      <td>21/06/16</td>\n",
       "      <td>23:14:55</td>\n",
       "      <td>21</td>\n",
       "      <td>06</td>\n",
       "      <td>16</td>\n",
       "      <td>23</td>\n",
       "      <td>세종특별자치시</td>\n",
       "      <td>세종특별자치시</td>\n",
       "      <td>다정동(새롬동)</td>\n",
       "    </tr>\n",
       "    <tr>\n",
       "      <th>68913</th>\n",
       "      <td>충남청</td>\n",
       "      <td>31</td>\n",
       "      <td>10</td>\n",
       "      <td>406</td>\n",
       "      <td>3.0</td>\n",
       "      <td>세종특별자치시 세종특별자치시 다정동(새롬동) 22-8</td>\n",
       "      <td>127.243519</td>\n",
       "      <td>36.492812</td>\n",
       "      <td>NaN</td>\n",
       "      <td>21/06/28</td>\n",
       "      <td>23:00:17</td>\n",
       "      <td>21</td>\n",
       "      <td>06</td>\n",
       "      <td>28</td>\n",
       "      <td>23</td>\n",
       "      <td>세종특별자치시</td>\n",
       "      <td>세종특별자치시</td>\n",
       "      <td>다정동(새롬동)</td>\n",
       "    </tr>\n",
       "  </tbody>\n",
       "</table>\n",
       "</div>"
      ],
      "text/plain": [
       "      접수부서  경찰청구분  사건상태  사건종별  신고성별                            발생지점  \\\n",
       "51917  충남청     31    10   401   1.0   세종특별자치시 세종특별자치시 다정동(새롬동) 22-8   \n",
       "63091  충남청     31    10   401   1.0  세종특별자치시 세종특별자치시 다정동(새롬동) 321-4   \n",
       "68913  충남청     31    10   406   3.0   세종특별자치시 세종특별자치시 다정동(새롬동) 22-8   \n",
       "\n",
       "            발생좌표x      발생좌표y 동일사건여부    접수완료날짜   접수완료시간대 접수연도 접수월 접수일자 접수완료시간  \\\n",
       "51917  127.243519  36.492812    NaN  21/05/14  20:05:43   21  05   14     20   \n",
       "63091  127.242981  36.495979      Y  21/06/16  23:14:55   21  06   16     23   \n",
       "68913  127.243519  36.492812    NaN  21/06/28  23:00:17   21  06   28     23   \n",
       "\n",
       "         광역시/도      시군구       읍면동  \n",
       "51917  세종특별자치시  세종특별자치시  다정동(새롬동)  \n",
       "63091  세종특별자치시  세종특별자치시  다정동(새롬동)  \n",
       "68913  세종특별자치시  세종특별자치시  다정동(새롬동)  "
      ]
     },
     "execution_count": 134,
     "metadata": {},
     "output_type": "execute_result"
    }
   ],
   "source": [
    "sejong = tram[tram['광역시/도'] == '세종특별자치시']\n",
    "sejong[sejong['시군구'] == '세종특별자치시'].head(3)"
   ]
  },
  {
   "cell_type": "markdown",
   "id": "5eccfd77",
   "metadata": {},
   "source": [
    "#### 시군구 칼럼에도 '세종시'가 아니라 세종특별자치시 존재 세종시로 바꿔준다!"
   ]
  },
  {
   "cell_type": "code",
   "execution_count": 147,
   "id": "42c6e73a",
   "metadata": {
    "scrolled": false
   },
   "outputs": [],
   "source": [
    "tram['시군구'] = tram['시군구'].replace('세종특별자치시','세종시')"
   ]
  },
  {
   "cell_type": "code",
   "execution_count": 185,
   "id": "50f1a55c",
   "metadata": {},
   "outputs": [
    {
     "data": {
      "text/plain": [
       "세종특별자치시    88\n",
       "Name: 광역시/도, dtype: int64"
      ]
     },
     "execution_count": 185,
     "metadata": {},
     "output_type": "execute_result"
    }
   ],
   "source": [
    "no_see = tram[tram['시군구'] =='']\n",
    "no_see['광역시/도'].value_counts()"
   ]
  },
  {
   "cell_type": "markdown",
   "id": "0d987301",
   "metadata": {},
   "source": [
    "#### 시군구 칼럼에 아무것동 없는 데이터 88개 존재\n",
    "#### 살펴보니 세종특별자치시 ㅇㅇ동으로 되어있는 열들임 -> 시군구에 세종시를 넣어주자!"
   ]
  },
  {
   "cell_type": "code",
   "execution_count": 186,
   "id": "185f2870",
   "metadata": {},
   "outputs": [],
   "source": [
    "tram['시군구'] = tram['시군구'].replace('','세종시')"
   ]
  },
  {
   "cell_type": "markdown",
   "id": "a52e15de",
   "metadata": {},
   "source": [
    "### 5. 데이터 타입 변경"
   ]
  },
  {
   "cell_type": "code",
   "execution_count": 148,
   "id": "bf788d06",
   "metadata": {},
   "outputs": [],
   "source": [
    "tram = tram.astype({'접수연도':'int'})\n",
    "tram = tram.astype({'접수일자':'int'})\n",
    "tram = tram.astype({'접수월':'int'})\n",
    "tram= tram.astype({'접수완료시간':'int'})"
   ]
  },
  {
   "cell_type": "markdown",
   "id": "6e4b1624",
   "metadata": {},
   "source": [
    "### 결측치 "
   ]
  },
  {
   "cell_type": "code",
   "execution_count": 149,
   "id": "8cdcdc8e",
   "metadata": {},
   "outputs": [
    {
     "data": {
      "text/plain": [
       "접수부서            0\n",
       "경찰청구분           0\n",
       "사건상태            0\n",
       "사건종별            0\n",
       "신고성별            0\n",
       "발생지점            0\n",
       "발생좌표x          28\n",
       "발생좌표y          28\n",
       "동일사건여부     209799\n",
       "접수완료날짜          0\n",
       "접수완료시간대         0\n",
       "접수연도            0\n",
       "접수월             0\n",
       "접수일자            0\n",
       "접수완료시간          0\n",
       "광역시/도           0\n",
       "시군구             0\n",
       "읍면동             0\n",
       "dtype: int64"
      ]
     },
     "execution_count": 149,
     "metadata": {},
     "output_type": "execute_result"
    }
   ],
   "source": [
    "tram.isnull().sum()"
   ]
  },
  {
   "cell_type": "markdown",
   "id": "bfad1e39",
   "metadata": {},
   "source": [
    "#### 1. 동일사건여부 컬럼은 보간 불가하다 판단하여 제거 "
   ]
  },
  {
   "cell_type": "code",
   "execution_count": 150,
   "id": "1d0674b3",
   "metadata": {},
   "outputs": [],
   "source": [
    "tram = tram.drop(columns=['동일사건여부'],axis=1)"
   ]
  },
  {
   "cell_type": "markdown",
   "id": "efa66806",
   "metadata": {},
   "source": [
    "#### 2. 발생좌표가 없는 열 보간"
   ]
  },
  {
   "cell_type": "code",
   "execution_count": 153,
   "id": "e524a3d0",
   "metadata": {},
   "outputs": [],
   "source": [
    "x = tram['발생좌표x'].isnull()\n",
    "y = tram['발생좌표y'].isnull()\n",
    "no = tram[x&y]"
   ]
  },
  {
   "cell_type": "code",
   "execution_count": 159,
   "id": "f4ee45f3",
   "metadata": {},
   "outputs": [
    {
     "name": "stdout",
     "output_type": "stream",
     "text": [
      "369           충청남도 천안시 서북구 두정동(부성2동) 955\n",
      "416       충청남도 천안시 서북구 불당동(행정:불당동) 234-1\n",
      "523       충청남도 태안군 태안읍 남문리(행정:태안읍) 720-9\n",
      "601     충청남도 천안시 동남구 목천읍 신계리(행정:목천읍) 422\n",
      "1045          충청남도 공주시 신관동(행정:신관동) 24-51\n",
      "Name: 발생지점, dtype: object\n"
     ]
    }
   ],
   "source": [
    "address = no['발생지점']\n",
    "print(address.head())"
   ]
  },
  {
   "cell_type": "code",
   "execution_count": 156,
   "id": "2751fec5",
   "metadata": {},
   "outputs": [
    {
     "name": "stdout",
     "output_type": "stream",
     "text": [
      "Collecting geopyNote: you may need to restart the kernel to use updated packages.\n",
      "  Downloading geopy-2.3.0-py3-none-any.whl (119 kB)\n",
      "     -------------------------------------- 119.8/119.8 kB 3.5 MB/s eta 0:00:00\n",
      "Collecting geographiclib<3,>=1.52\n",
      "  Downloading geographiclib-2.0-py3-none-any.whl (40 kB)\n",
      "     ---------------------------------------- 40.3/40.3 kB 2.0 MB/s eta 0:00:00\n",
      "Installing collected packages: geographiclib, geopy\n",
      "Successfully installed geographiclib-2.0 geopy-2.3.0\n",
      "\n"
     ]
    }
   ],
   "source": [
    "pip install geopy"
   ]
  },
  {
   "cell_type": "code",
   "execution_count": 161,
   "id": "e729d319",
   "metadata": {},
   "outputs": [],
   "source": [
    "from geopy.geocoders import Nominatim\n",
    "geo_local = Nominatim(user_agent='South Korea')\n",
    "\n",
    "# 위도, 경도 반환하는 함수\n",
    "def geocoding(address):\n",
    "    try:\n",
    "        geo = geo_local.geocode(address)\n",
    "        x_y = [geo.latitude, geo.longitude]\n",
    "        return x_y\n",
    "\n",
    "    except:\n",
    "        return [0,0]"
   ]
  },
  {
   "cell_type": "code",
   "execution_count": 162,
   "id": "038d1617",
   "metadata": {},
   "outputs": [],
   "source": [
    "발생좌표x = []\n",
    "발생좌표y =[]\n",
    "\n",
    "for i in address:\n",
    "    발생좌표x.append(geocoding(i)[0])\n",
    "    발생좌표y.append(geocoding(i)[1])"
   ]
  },
  {
   "cell_type": "code",
   "execution_count": 167,
   "id": "f432f812",
   "metadata": {},
   "outputs": [
    {
     "name": "stdout",
     "output_type": "stream",
     "text": [
      "[0, 0, 0, 0, 0, 0, 0, 0, 0, 0, 0, 36.8239571, 36.8024722, 36.8119683, 36.8146887, 0, 36.7840779, 0, 0, 36.4328828, 0, 0, 0, 36.60379555, 0, 0, 36.3298999, 0]\n",
      "[0, 0, 0, 0, 0, 0, 0, 0, 0, 0, 0, 127.14010219276282, 127.12952356570844, 127.1089675, 127.1808139, 0, 127.1253344, 0, 0, 127.2777721, 0, 0, 0, 127.29381782866696, 0, 0, 127.4066297, 0]\n"
     ]
    }
   ],
   "source": [
    "print(발생좌표x)\n",
    "print(발생좌표y)"
   ]
  },
  {
   "cell_type": "markdown",
   "id": "f56e5948",
   "metadata": {},
   "source": [
    "#### 특정 주소는 불러오지만 대부분 못불러옴 -> 엑셀로 받아서 지오코딩할 필요성 존재 !"
   ]
  },
  {
   "cell_type": "code",
   "execution_count": 188,
   "id": "a1395ba4",
   "metadata": {},
   "outputs": [],
   "source": [
    "tram.to_csv('전처리95퍼완.csv',encoding='euc-kr')"
   ]
  },
  {
   "cell_type": "code",
   "execution_count": null,
   "id": "c1c691b4",
   "metadata": {},
   "outputs": [],
   "source": []
  }
 ],
 "metadata": {
  "kernelspec": {
   "display_name": "Python 3 (ipykernel)",
   "language": "python",
   "name": "python3"
  },
  "language_info": {
   "codemirror_mode": {
    "name": "ipython",
    "version": 3
   },
   "file_extension": ".py",
   "mimetype": "text/x-python",
   "name": "python",
   "nbconvert_exporter": "python",
   "pygments_lexer": "ipython3",
   "version": "3.9.13"
  }
 },
 "nbformat": 4,
 "nbformat_minor": 5
}
