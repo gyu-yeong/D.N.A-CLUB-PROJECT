{
 "cells": [
  {
   "cell_type": "markdown",
   "id": "f0479c05",
   "metadata": {},
   "source": [
    "#### 요일변수 생성, 컬럼명 단순화, 불필요 컬럼 제거 함수, 유성구 대청동 데이터 -> 진잠동으로 처리"
   ]
  },
  {
   "cell_type": "code",
   "execution_count": null,
   "id": "35424261",
   "metadata": {},
   "outputs": [],
   "source": [
    "import pandas as pd\n",
    "import locale\n",
    "\n",
    "df = pd.read_csv(\"D:/치안빅데이터/데이터/총인구수추가 완.csv\", encoding='euc-kr')\n",
    "\n",
    "def model(df):\n",
    "    df['접수완료날짜'] = pd.to_datetime(df['접수완료날짜'])\n",
    "    df['요일'] = df['접수완료날짜'].dt.day_name()\n",
    "    \n",
    "    locale.setlocale(locale.LC_ALL, 'ko_KR.UTF-8')\n",
    "    df['요일'] = df['접수완료날짜'].dt.strftime('%A')\n",
    "    \n",
    "    col = ['사건종별','발생지점','발생좌표x','발생좌표y','접수완료날짜','접수완료시간대','접수연도','접수월','접수일자',\n",
    "       '접수완료시간', '시군구', '행정동', '면적(km^2)', '기온(°C)', '강수량(mm)', '적설(cm)', '총인구수', '요일']\n",
    "\n",
    "    df = df[col]\n",
    "\n",
    "    df.rename(columns={'면적(km^2)':'면적',\n",
    "                           '기온(°C)':'기온',\n",
    "                           '강수량(mm)':'강수량',\n",
    "                           '적설(cm)':'적설'},inplace=True)\n",
    "    \n",
    "    df.loc[(df['시군구'] == '유성구') & (df['행정동'] == '대청동'),'행정동'] = '진잠동' #진잠동 처리\n",
    "\n",
    "    return(df)\n",
    "\n",
    "df = model(df)"
   ]
  },
  {
   "cell_type": "markdown",
   "id": "f35a3d40",
   "metadata": {},
   "source": [
    "### 가설: 사건종별로 발생횟수에는 차이가 있다 \n",
    "#### 위 데이터프레임을 분산분석해서 사건종별에 따라 발생횟수에 차이가 있는지 없는지 검정해보자"
   ]
  },
  {
   "cell_type": "code",
   "execution_count": null,
   "id": "c671ed20",
   "metadata": {},
   "outputs": [],
   "source": [
    "df_new = df.groupby(['사건종별','시군구','행정동']).size().reset_index(name='발생횟수').sort_values(by='발생횟수',ascending=False)\n",
    "a = df_new['사건종별'] != 404 # 소수 데이터\n",
    "b = df_new['사건종별'] != 405 # 소수 데이터\n",
    "\n",
    "df_new[a&b]"
   ]
  },
  {
   "cell_type": "code",
   "execution_count": null,
   "id": "7602fa76",
   "metadata": {},
   "outputs": [],
   "source": [
    "import scipy.stats as stats\n",
    "import statsmodels.api as sm\n",
    "from statsmodels.formula.api import ols\n",
    "\n",
    "df_401 = df_new[df_new['사건종별'] == 401]\n",
    "df_402 = df_new[df_new['사건종별'] == 402]\n",
    "df_403 = df_new[df_new['사건종별'] == 403]\n",
    "df_406 = df_new[df_new['사건종별'] == 406]\n",
    "\n",
    "stat, p = stats.normaltest(df_401['발생횟수'])\n",
    "print(\"401: Statistics=%.3f, p=%.4f\" % (stat, p))\n",
    "stat, p = stats.normaltest(df_402['발생횟수'])\n",
    "print(\"402: Statistics=%.3f, p=%.4f\" % (stat, p))\n",
    "stat, p = stats.normaltest(df_403['발생횟수'])\n",
    "print(\"403: Statistics=%.3f, p=%.4f\" % (stat, p))\n",
    "stat, p = stats.normaltest(df_406['발생횟수'])\n",
    "print(\"406: Statistics=%.3f, p=%.4f\" % (stat, p))"
   ]
  },
  {
   "cell_type": "markdown",
   "id": "67204ae0",
   "metadata": {},
   "source": [
    "#### 네 그룹 모두 정규성 가정 불만족 -> 분산분석 대신 kruskal 순위합 검정 사용"
   ]
  },
  {
   "cell_type": "code",
   "execution_count": null,
   "id": "9be0b7ee",
   "metadata": {},
   "outputs": [],
   "source": [
    "from scipy.stats import kruskal\n",
    "\n",
    "df_new_401 = df_new[df_new['사건종별'] == 401]['발생횟수']\n",
    "df_new_402 = df_new[df_new['사건종별'] == 402]['발생횟수']\n",
    "df_new_403 = df_new[df_new['사건종별'] == 403]['발생횟수']\n",
    "df_new_406 = df_new[df_new['사건종별'] == 406]['발생횟수']\n",
    "\n",
    "stat, p = kruskal(df_new_401, df_new_402, df_new_403, df_new_406)\n",
    "\n",
    "print('검정통계량:',stat)\n",
    "print('p-value:',p)\n",
    "print('-'*50)\n",
    "if p < 0.05:\n",
    "    print(\"H0 reject\")\n",
    "else:\n",
    "    print(\"Fail to reject H0\")"
   ]
  },
  {
   "cell_type": "markdown",
   "id": "0bc8b9da",
   "metadata": {},
   "source": [
    "#### 사건종별에 따른 발생횟수 평균에는 차이가 있다. 즉, 사건종류에 따라서 발생횟수의 평균은 다르다"
   ]
  },
  {
   "cell_type": "markdown",
   "id": "4e9a9bf0",
   "metadata": {},
   "source": [
    "### 1. 사건종별 발생횟수 예측 \n",
    "#### 아래 데이터프레임 형태를 각자 뜯어서\n",
    "\n",
    "#### 사건종별로 발생횟수를 예측할건데, 각 행정동별로, (요일, 강수량, 적설, 시간 등) 여러 변수의 조건 하에서 얼만큼의 사건이 발생할 것이다\n",
    "\n",
    "#### 따라서 유사한 그룹을 묶어서 이런 지역엔 가령 402번이 자주 일어나기 때문에 이런이런 조치가 필요할 것이다라는 형식으로 마무리"
   ]
  },
  {
   "cell_type": "code",
   "execution_count": null,
   "id": "3b7d8cee",
   "metadata": {},
   "outputs": [],
   "source": [
    "df4 = df.copy()\n",
    "df4['강수량'] = df4['강수량'].apply(lambda x: 0 if pd.isnull(x) else 1)\n",
    "df4['적설'] = df4['적설'].apply(lambda x: 0 if pd.isnull(x) else 1)"
   ]
  },
  {
   "cell_type": "code",
   "execution_count": null,
   "id": "80c1897c",
   "metadata": {},
   "outputs": [],
   "source": [
    "df4 = df4.groupby(['사건종별','접수완료시간','요일','시군구','행정동','총인구수','면적','강수량','적설']).size().reset_index(name='발생횟수')\n",
    "df4.sort_values(by='발생횟수',ascending=False)"
   ]
  },
  {
   "cell_type": "markdown",
   "id": "ebbe2631",
   "metadata": {},
   "source": [
    "### 2. 발생횟수 다수지점 인사이트 찾기 및 예측\n",
    "#### 발생횟수 기준, 3사분위수 이상 해당하는 지점들만 데이터프레임으로 뽑아서 가져옴 "
   ]
  },
  {
   "cell_type": "code",
   "execution_count": null,
   "id": "3810cff4",
   "metadata": {},
   "outputs": [],
   "source": [
    "do = pd.DataFrame(df['발생지점'].value_counts())\n",
    "do.describe()"
   ]
  },
  {
   "cell_type": "markdown",
   "id": "e2f1d81e",
   "metadata": {},
   "source": [
    "#### 3사분위수 이상에 해당하는 놈들만 가져오려 했는데, 3사분위수가 2이다...\n",
    "#### 그래도 일단 가져와보자 "
   ]
  },
  {
   "cell_type": "code",
   "execution_count": null,
   "id": "88511bcd",
   "metadata": {},
   "outputs": [],
   "source": [
    "do = pd.DataFrame(df['발생지점'].value_counts())\n",
    "do[do['발생지점'] > 2]"
   ]
  },
  {
   "cell_type": "code",
   "execution_count": null,
   "id": "475b672b",
   "metadata": {},
   "outputs": [],
   "source": [
    "counts = df_col['발생지점'].value_counts()\n",
    "mask = df_col['발생지점'].isin(counts[counts >= 50].index)\n",
    "df_filtered = df_col[mask]\n",
    "df_filtered"
   ]
  },
  {
   "cell_type": "markdown",
   "id": "9ff52d4b",
   "metadata": {},
   "source": [
    "#### 해당 데이터프레임을 그룹바이하여 원하는 형태로 만들어서 예측해볼 것"
   ]
  },
  {
   "cell_type": "code",
   "execution_count": null,
   "id": "65ce81fd",
   "metadata": {},
   "outputs": [],
   "source": []
  }
 ],
 "metadata": {
  "kernelspec": {
   "display_name": "Python 3 (ipykernel)",
   "language": "python",
   "name": "python3"
  },
  "language_info": {
   "codemirror_mode": {
    "name": "ipython",
    "version": 3
   },
   "file_extension": ".py",
   "mimetype": "text/x-python",
   "name": "python",
   "nbconvert_exporter": "python",
   "pygments_lexer": "ipython3",
   "version": "3.9.13"
  }
 },
 "nbformat": 4,
 "nbformat_minor": 5
}
