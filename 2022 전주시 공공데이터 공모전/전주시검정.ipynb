{
 "cells": [
  {
   "cell_type": "code",
   "execution_count": 1,
   "id": "56f68855",
   "metadata": {},
   "outputs": [
    {
     "data": {
      "text/html": [
       "<div>\n",
       "<style scoped>\n",
       "    .dataframe tbody tr th:only-of-type {\n",
       "        vertical-align: middle;\n",
       "    }\n",
       "\n",
       "    .dataframe tbody tr th {\n",
       "        vertical-align: top;\n",
       "    }\n",
       "\n",
       "    .dataframe thead th {\n",
       "        text-align: right;\n",
       "    }\n",
       "</style>\n",
       "<table border=\"1\" class=\"dataframe\">\n",
       "  <thead>\n",
       "    <tr style=\"text-align: right;\">\n",
       "      <th></th>\n",
       "      <th>단속장소명</th>\n",
       "      <th>구청구분</th>\n",
       "      <th>유예시간</th>\n",
       "      <th>유예시간X</th>\n",
       "    </tr>\n",
       "  </thead>\n",
       "  <tbody>\n",
       "    <tr>\n",
       "      <th>0</th>\n",
       "      <td>BYC 주변</td>\n",
       "      <td>완산구</td>\n",
       "      <td>1.0</td>\n",
       "      <td>108</td>\n",
       "    </tr>\n",
       "    <tr>\n",
       "      <th>1</th>\n",
       "      <td>CGV고사점</td>\n",
       "      <td>완산구</td>\n",
       "      <td>NaN</td>\n",
       "      <td>4271</td>\n",
       "    </tr>\n",
       "    <tr>\n",
       "      <th>2</th>\n",
       "      <td>CGV고사점CCTV</td>\n",
       "      <td>완산구</td>\n",
       "      <td>NaN</td>\n",
       "      <td>5473</td>\n",
       "    </tr>\n",
       "  </tbody>\n",
       "</table>\n",
       "</div>"
      ],
      "text/plain": [
       "        단속장소명 구청구분  유예시간  유예시간X\n",
       "0      BYC 주변  완산구   1.0    108\n",
       "1      CGV고사점  완산구   NaN   4271\n",
       "2  CGV고사점CCTV  완산구   NaN   5473"
      ]
     },
     "execution_count": 1,
     "metadata": {},
     "output_type": "execute_result"
    }
   ],
   "source": [
    "import pandas as pd\n",
    "df = pd.read_excel(\"C:/Users/user/Desktop/통합 문서1.xlsx\")\n",
    "df.head(3)"
   ]
  },
  {
   "cell_type": "code",
   "execution_count": 2,
   "id": "a0d5ac6c",
   "metadata": {},
   "outputs": [
    {
     "data": {
      "text/html": [
       "<div>\n",
       "<style scoped>\n",
       "    .dataframe tbody tr th:only-of-type {\n",
       "        vertical-align: middle;\n",
       "    }\n",
       "\n",
       "    .dataframe tbody tr th {\n",
       "        vertical-align: top;\n",
       "    }\n",
       "\n",
       "    .dataframe thead th {\n",
       "        text-align: right;\n",
       "    }\n",
       "</style>\n",
       "<table border=\"1\" class=\"dataframe\">\n",
       "  <thead>\n",
       "    <tr style=\"text-align: right;\">\n",
       "      <th></th>\n",
       "      <th>단속장소명</th>\n",
       "      <th>유예시간</th>\n",
       "    </tr>\n",
       "  </thead>\n",
       "  <tbody>\n",
       "    <tr>\n",
       "      <th>0</th>\n",
       "      <td>BYC 주변</td>\n",
       "      <td>1.0</td>\n",
       "    </tr>\n",
       "    <tr>\n",
       "      <th>1</th>\n",
       "      <td>CGV고사점</td>\n",
       "      <td>NaN</td>\n",
       "    </tr>\n",
       "    <tr>\n",
       "      <th>2</th>\n",
       "      <td>CGV고사점CCTV</td>\n",
       "      <td>NaN</td>\n",
       "    </tr>\n",
       "  </tbody>\n",
       "</table>\n",
       "</div>"
      ],
      "text/plain": [
       "        단속장소명  유예시간\n",
       "0      BYC 주변   1.0\n",
       "1      CGV고사점   NaN\n",
       "2  CGV고사점CCTV   NaN"
      ]
     },
     "execution_count": 2,
     "metadata": {},
     "output_type": "execute_result"
    }
   ],
   "source": [
    "df1 = df.drop(columns=['구청구분', '유예시간'], axis=1)\n",
    "df2 = df.drop(columns=['구청구분', '유예시간X'], axis=1)\n",
    "df2.head(3)"
   ]
  },
  {
   "cell_type": "code",
   "execution_count": 4,
   "id": "08b66cd0",
   "metadata": {},
   "outputs": [
    {
     "data": {
      "text/plain": [
       "단속장소명      2\n",
       "유예시간     632\n",
       "dtype: int64"
      ]
     },
     "execution_count": 4,
     "metadata": {},
     "output_type": "execute_result"
    }
   ],
   "source": [
    "df2.isnull().sum()"
   ]
  },
  {
   "cell_type": "code",
   "execution_count": 3,
   "id": "524d9316",
   "metadata": {},
   "outputs": [
    {
     "name": "stdout",
     "output_type": "stream",
     "text": [
      "<class 'pandas.core.frame.DataFrame'>\n",
      "RangeIndex: 894 entries, 0 to 893\n",
      "Data columns (total 2 columns):\n",
      " #   Column  Non-Null Count  Dtype  \n",
      "---  ------  --------------  -----  \n",
      " 0   단속장소명   894 non-null    object \n",
      " 1   유예시간    894 non-null    float64\n",
      "dtypes: float64(1), object(1)\n",
      "memory usage: 14.1+ KB\n"
     ]
    }
   ],
   "source": [
    "df2 = df2.fillna(0)\n",
    "df2.info()"
   ]
  },
  {
   "cell_type": "code",
   "execution_count": 6,
   "id": "7d3f0986",
   "metadata": {},
   "outputs": [
    {
     "data": {
      "text/plain": [
       "단속장소명    2\n",
       "유예시간X    0\n",
       "dtype: int64"
      ]
     },
     "execution_count": 6,
     "metadata": {},
     "output_type": "execute_result"
    }
   ],
   "source": [
    "df1.isnull().sum()"
   ]
  },
  {
   "cell_type": "code",
   "execution_count": 4,
   "id": "df075006",
   "metadata": {},
   "outputs": [
    {
     "name": "stdout",
     "output_type": "stream",
     "text": [
      "<class 'pandas.core.frame.DataFrame'>\n",
      "RangeIndex: 894 entries, 0 to 893\n",
      "Data columns (total 2 columns):\n",
      " #   Column  Non-Null Count  Dtype \n",
      "---  ------  --------------  ----- \n",
      " 0   단속장소명   894 non-null    object\n",
      " 1   유예시간X   894 non-null    int64 \n",
      "dtypes: int64(1), object(1)\n",
      "memory usage: 14.1+ KB\n"
     ]
    }
   ],
   "source": [
    "df1 = df1.fillna(0)\n",
    "df1.info()"
   ]
  },
  {
   "cell_type": "code",
   "execution_count": 5,
   "id": "d7e9d08f",
   "metadata": {},
   "outputs": [
    {
     "name": "stdout",
     "output_type": "stream",
     "text": [
      "유예시간아닌시간대의 적발평균: 889.423937360179\n"
     ]
    }
   ],
   "source": [
    "import numpy as np\n",
    "print('유예시간아닌시간대의 적발평균:', df1['유예시간X'].mean())"
   ]
  },
  {
   "cell_type": "code",
   "execution_count": 6,
   "id": "0b881c0f",
   "metadata": {},
   "outputs": [
    {
     "name": "stdout",
     "output_type": "stream",
     "text": [
      "유예시간대의 적발평균: 27.10290827740492\n"
     ]
    }
   ],
   "source": [
    "print('유예시간대의 적발평균:', df2['유예시간'].mean())"
   ]
  },
  {
   "cell_type": "code",
   "execution_count": 45,
   "id": "453b444a",
   "metadata": {},
   "outputs": [
    {
     "data": {
      "text/html": [
       "<div>\n",
       "<style scoped>\n",
       "    .dataframe tbody tr th:only-of-type {\n",
       "        vertical-align: middle;\n",
       "    }\n",
       "\n",
       "    .dataframe tbody tr th {\n",
       "        vertical-align: top;\n",
       "    }\n",
       "\n",
       "    .dataframe thead th {\n",
       "        text-align: right;\n",
       "    }\n",
       "</style>\n",
       "<table border=\"1\" class=\"dataframe\">\n",
       "  <thead>\n",
       "    <tr style=\"text-align: right;\">\n",
       "      <th></th>\n",
       "      <th>단속장소명</th>\n",
       "      <th>유예시간X</th>\n",
       "    </tr>\n",
       "  </thead>\n",
       "  <tbody>\n",
       "    <tr>\n",
       "      <th>0</th>\n",
       "      <td>BYC 주변</td>\n",
       "      <td>108</td>\n",
       "    </tr>\n",
       "    <tr>\n",
       "      <th>1</th>\n",
       "      <td>CGV고사점</td>\n",
       "      <td>4271</td>\n",
       "    </tr>\n",
       "    <tr>\n",
       "      <th>2</th>\n",
       "      <td>CGV고사점CCTV</td>\n",
       "      <td>5473</td>\n",
       "    </tr>\n",
       "    <tr>\n",
       "      <th>3</th>\n",
       "      <td>E마트</td>\n",
       "      <td>7067</td>\n",
       "    </tr>\n",
       "    <tr>\n",
       "      <th>4</th>\n",
       "      <td>GS25공구거리점부근</td>\n",
       "      <td>457</td>\n",
       "    </tr>\n",
       "  </tbody>\n",
       "</table>\n",
       "</div>"
      ],
      "text/plain": [
       "         단속장소명  유예시간X\n",
       "0       BYC 주변    108\n",
       "1       CGV고사점   4271\n",
       "2   CGV고사점CCTV   5473\n",
       "3          E마트   7067\n",
       "4  GS25공구거리점부근    457"
      ]
     },
     "execution_count": 45,
     "metadata": {},
     "output_type": "execute_result"
    }
   ],
   "source": [
    "df1.head(5)"
   ]
  },
  {
   "cell_type": "code",
   "execution_count": 46,
   "id": "cdc11d28",
   "metadata": {},
   "outputs": [
    {
     "data": {
      "text/html": [
       "<div>\n",
       "<style scoped>\n",
       "    .dataframe tbody tr th:only-of-type {\n",
       "        vertical-align: middle;\n",
       "    }\n",
       "\n",
       "    .dataframe tbody tr th {\n",
       "        vertical-align: top;\n",
       "    }\n",
       "\n",
       "    .dataframe thead th {\n",
       "        text-align: right;\n",
       "    }\n",
       "</style>\n",
       "<table border=\"1\" class=\"dataframe\">\n",
       "  <thead>\n",
       "    <tr style=\"text-align: right;\">\n",
       "      <th></th>\n",
       "      <th>단속장소명</th>\n",
       "      <th>유예시간</th>\n",
       "    </tr>\n",
       "  </thead>\n",
       "  <tbody>\n",
       "    <tr>\n",
       "      <th>0</th>\n",
       "      <td>BYC 주변</td>\n",
       "      <td>1.0</td>\n",
       "    </tr>\n",
       "    <tr>\n",
       "      <th>1</th>\n",
       "      <td>CGV고사점</td>\n",
       "      <td>0.0</td>\n",
       "    </tr>\n",
       "    <tr>\n",
       "      <th>2</th>\n",
       "      <td>CGV고사점CCTV</td>\n",
       "      <td>0.0</td>\n",
       "    </tr>\n",
       "    <tr>\n",
       "      <th>3</th>\n",
       "      <td>E마트</td>\n",
       "      <td>1395.0</td>\n",
       "    </tr>\n",
       "    <tr>\n",
       "      <th>4</th>\n",
       "      <td>GS25공구거리점부근</td>\n",
       "      <td>0.0</td>\n",
       "    </tr>\n",
       "  </tbody>\n",
       "</table>\n",
       "</div>"
      ],
      "text/plain": [
       "         단속장소명    유예시간\n",
       "0       BYC 주변     1.0\n",
       "1       CGV고사점     0.0\n",
       "2   CGV고사점CCTV     0.0\n",
       "3          E마트  1395.0\n",
       "4  GS25공구거리점부근     0.0"
      ]
     },
     "execution_count": 46,
     "metadata": {},
     "output_type": "execute_result"
    }
   ],
   "source": [
    "df2.head(5)"
   ]
  },
  {
   "cell_type": "code",
   "execution_count": 47,
   "id": "19f0b0c8",
   "metadata": {},
   "outputs": [
    {
     "name": "stdout",
     "output_type": "stream",
     "text": [
      "<class 'pandas.core.frame.DataFrame'>\n",
      "RangeIndex: 894 entries, 0 to 893\n",
      "Data columns (total 2 columns):\n",
      " #   Column  Non-Null Count  Dtype \n",
      "---  ------  --------------  ----- \n",
      " 0   단속장소명   894 non-null    object\n",
      " 1   유예시간X   894 non-null    int64 \n",
      "dtypes: int64(1), object(1)\n",
      "memory usage: 14.1+ KB\n",
      "None\n",
      "<class 'pandas.core.frame.DataFrame'>\n",
      "RangeIndex: 894 entries, 0 to 893\n",
      "Data columns (total 2 columns):\n",
      " #   Column  Non-Null Count  Dtype  \n",
      "---  ------  --------------  -----  \n",
      " 0   단속장소명   894 non-null    object \n",
      " 1   유예시간    894 non-null    float64\n",
      "dtypes: float64(1), object(1)\n",
      "memory usage: 14.1+ KB\n",
      "None\n"
     ]
    }
   ],
   "source": [
    "print(df1.info())\n",
    "print(df2.info())"
   ]
  },
  {
   "cell_type": "markdown",
   "id": "7c92286f",
   "metadata": {},
   "source": [
    "### 독립표본 T검정\n",
    "#### H0: 유예시간과 유예시간이 아닌 시간대의 적발 평균은 같다\n",
    "#### H1: 차이가 있다"
   ]
  },
  {
   "cell_type": "code",
   "execution_count": 7,
   "id": "d46b1b67",
   "metadata": {},
   "outputs": [
    {
     "name": "stdout",
     "output_type": "stream",
     "text": [
      "ShapiroResult(statistic=0.19287186861038208, pvalue=0.0)\n",
      "ShapiroResult(statistic=0.5255110859870911, pvalue=1.233142648605839e-43)\n"
     ]
    }
   ],
   "source": [
    "from scipy.stats import shapiro\n",
    "#정규성 검정\n",
    "print(shapiro(df2['유예시간'])) #정규성 만족 \n",
    "print(shapiro(df1['유예시간X'])) #정규성 만족 "
   ]
  },
  {
   "cell_type": "code",
   "execution_count": 8,
   "id": "5c1b6402",
   "metadata": {},
   "outputs": [
    {
     "name": "stdout",
     "output_type": "stream",
     "text": [
      "LeveneResult(statistic=206.51793590326156, pvalue=2.1380805554713346e-44)\n"
     ]
    }
   ],
   "source": [
    "from scipy.stats import levene, ttest_ind\n",
    "print(levene(df1['유예시간X'], df2['유예시간'])) #등분산성 만족X"
   ]
  },
  {
   "cell_type": "code",
   "execution_count": 9,
   "id": "217c6555",
   "metadata": {},
   "outputs": [
    {
     "data": {
      "text/plain": [
       "Ttest_indResult(statistic=17.743183135052075, pvalue=1.0504416278214761e-60)"
      ]
     },
     "execution_count": 9,
     "metadata": {},
     "output_type": "execute_result"
    }
   ],
   "source": [
    "from scipy.stats import levene, ttest_ind\n",
    "ttest_ind(df1['유예시간X'], df2['유예시간'],  equal_var=False) #분산이 다르므로 "
   ]
  },
  {
   "cell_type": "markdown",
   "id": "eb470b9e",
   "metadata": {},
   "source": [
    "#### 두 데이터 모두 정규성을 만족하지만, 등분산성 만족X\n",
    "#### 등분산성을 만족하지 않는 독립표본 T검정 결과,\n",
    "#### 유의수준 0.05 하에서 귀무가설을 기각함. 즉, 두 시간대의 적발횟수 평균에는 차이가 있다."
   ]
  },
  {
   "cell_type": "code",
   "execution_count": 5,
   "id": "2903514a",
   "metadata": {},
   "outputs": [],
   "source": [
    "x = df2['유예시간']"
   ]
  },
  {
   "cell_type": "code",
   "execution_count": 9,
   "id": "5e4245bd",
   "metadata": {},
   "outputs": [
    {
     "data": {
      "text/html": [
       "<div>\n",
       "<style scoped>\n",
       "    .dataframe tbody tr th:only-of-type {\n",
       "        vertical-align: middle;\n",
       "    }\n",
       "\n",
       "    .dataframe tbody tr th {\n",
       "        vertical-align: top;\n",
       "    }\n",
       "\n",
       "    .dataframe thead th {\n",
       "        text-align: right;\n",
       "    }\n",
       "</style>\n",
       "<table border=\"1\" class=\"dataframe\">\n",
       "  <thead>\n",
       "    <tr style=\"text-align: right;\">\n",
       "      <th></th>\n",
       "      <th>단속장소명</th>\n",
       "      <th>유예시간</th>\n",
       "    </tr>\n",
       "  </thead>\n",
       "  <tbody>\n",
       "    <tr>\n",
       "      <th>0</th>\n",
       "      <td>BYC 주변</td>\n",
       "      <td>1.0</td>\n",
       "    </tr>\n",
       "    <tr>\n",
       "      <th>1</th>\n",
       "      <td>CGV고사점</td>\n",
       "      <td>0.0</td>\n",
       "    </tr>\n",
       "    <tr>\n",
       "      <th>2</th>\n",
       "      <td>CGV고사점CCTV</td>\n",
       "      <td>0.0</td>\n",
       "    </tr>\n",
       "    <tr>\n",
       "      <th>3</th>\n",
       "      <td>E마트</td>\n",
       "      <td>1395.0</td>\n",
       "    </tr>\n",
       "    <tr>\n",
       "      <th>4</th>\n",
       "      <td>GS25공구거리점부근</td>\n",
       "      <td>0.0</td>\n",
       "    </tr>\n",
       "  </tbody>\n",
       "</table>\n",
       "</div>"
      ],
      "text/plain": [
       "         단속장소명    유예시간\n",
       "0       BYC 주변     1.0\n",
       "1       CGV고사점     0.0\n",
       "2   CGV고사점CCTV     0.0\n",
       "3          E마트  1395.0\n",
       "4  GS25공구거리점부근     0.0"
      ]
     },
     "execution_count": 9,
     "metadata": {},
     "output_type": "execute_result"
    }
   ],
   "source": [
    "df2.head(5)"
   ]
  },
  {
   "cell_type": "code",
   "execution_count": 10,
   "id": "0442968a",
   "metadata": {},
   "outputs": [
    {
     "data": {
      "text/plain": [
       "유예시간    27.102908\n",
       "dtype: float64"
      ]
     },
     "execution_count": 10,
     "metadata": {},
     "output_type": "execute_result"
    }
   ],
   "source": [
    "df2.mean()"
   ]
  },
  {
   "cell_type": "code",
   "execution_count": 24,
   "id": "e0f79c11",
   "metadata": {},
   "outputs": [
    {
     "data": {
      "text/plain": [
       "(0.41991620104027105, 0.0009999999999998899)"
      ]
     },
     "execution_count": 24,
     "metadata": {},
     "output_type": "execute_result"
    }
   ],
   "source": [
    "from statsmodels.stats.diagnostic import kstest_normal\n",
    "kstest_normal(x, dist='norm')"
   ]
  },
  {
   "cell_type": "markdown",
   "id": "88b8546c",
   "metadata": {},
   "source": [
    "### 가설검정\n",
    "#### H0: 유예시간의 적발 평균은 0이다\n",
    "#### H1: 유예시간의 적발 평균은 0이 아니다"
   ]
  },
  {
   "cell_type": "code",
   "execution_count": 6,
   "id": "2f222bbc",
   "metadata": {},
   "outputs": [
    {
     "name": "stdout",
     "output_type": "stream",
     "text": [
      "ShapiroResult(statistic=0.19287186861038208, pvalue=0.0)\n"
     ]
    }
   ],
   "source": [
    "from scipy.stats import shapiro #정규성 검정\n",
    "print(shapiro(x)) #정규성 불만족 "
   ]
  },
  {
   "cell_type": "markdown",
   "id": "82d8e1ba",
   "metadata": {},
   "source": [
    "#### p-value: 0.0이므로 정규성 불만족\n",
    "#### 따라서 모수검정 불가능하고, 비모수 검정 시행\n",
    "\n",
    "#### H0: 유예시간의 적발 중위수는 0이다\n",
    "#### H0: 0이 아니다"
   ]
  },
  {
   "cell_type": "code",
   "execution_count": 18,
   "id": "347f05dd",
   "metadata": {},
   "outputs": [
    {
     "name": "stdout",
     "output_type": "stream",
     "text": [
      "윌콕슨 중위수검정: WilcoxonResult(statistic=0.0, pvalue=8.575371758642613e-45)\n"
     ]
    }
   ],
   "source": [
    "from scipy.stats import wilcoxon\n",
    "print('윌콕슨 중위수검정:',wilcoxon(x))"
   ]
  },
  {
   "cell_type": "markdown",
   "id": "361aa059",
   "metadata": {},
   "source": [
    "#### 검정 결과, H0 REJECT 즉, 유예시간의 적발 중위수는 0이 아니다."
   ]
  },
  {
   "cell_type": "code",
   "execution_count": 14,
   "id": "728c6321",
   "metadata": {},
   "outputs": [
    {
     "data": {
      "text/plain": [
       "(94.13814879361483, 0.0)"
      ]
     },
     "execution_count": 14,
     "metadata": {},
     "output_type": "execute_result"
    }
   ],
   "source": [
    "from statsmodels.sandbox.stats.runs import Runs\n",
    "Runs(df2['유예시간']).runs_test()"
   ]
  },
  {
   "cell_type": "code",
   "execution_count": 10,
   "id": "780514c2",
   "metadata": {},
   "outputs": [
    {
     "data": {
      "text/plain": [
       "MannwhitneyuResult(statistic=16831.0, pvalue=4.6779366881109285e-282)"
      ]
     },
     "execution_count": 10,
     "metadata": {},
     "output_type": "execute_result"
    }
   ],
   "source": [
    "from scipy.stats import mannwhitneyu\n",
    "\n",
    "mannwhitneyu(df1['유예시간X'], df2['유예시간'])"
   ]
  },
  {
   "cell_type": "code",
   "execution_count": null,
   "id": "06cd9dbe",
   "metadata": {},
   "outputs": [],
   "source": [
    "df2.head(5)"
   ]
  },
  {
   "cell_type": "code",
   "execution_count": 9,
   "id": "93dbf423",
   "metadata": {},
   "outputs": [],
   "source": [
    "df3 = []\n",
    "df3 = df1['유예시간X']+df2['유예시간']\n",
    "df3 = pd.DataFrame([df3])"
   ]
  },
  {
   "cell_type": "code",
   "execution_count": 10,
   "id": "52206f40",
   "metadata": {},
   "outputs": [],
   "source": [
    "df3 = df3.transpose()"
   ]
  },
  {
   "cell_type": "code",
   "execution_count": 11,
   "id": "ecddc9fa",
   "metadata": {},
   "outputs": [],
   "source": [
    "df3 = df3.rename(columns={0:'적발횟수'})"
   ]
  },
  {
   "cell_type": "code",
   "execution_count": 12,
   "id": "5d352e0e",
   "metadata": {},
   "outputs": [],
   "source": [
    "y = df3['적발횟수']"
   ]
  },
  {
   "cell_type": "code",
   "execution_count": 19,
   "id": "56d3a80a",
   "metadata": {},
   "outputs": [
    {
     "data": {
      "text/plain": [
       "적발횟수    405.5\n",
       "dtype: float64"
      ]
     },
     "execution_count": 19,
     "metadata": {},
     "output_type": "execute_result"
    }
   ],
   "source": [
    "df3.median()"
   ]
  },
  {
   "cell_type": "code",
   "execution_count": null,
   "id": "37496b09",
   "metadata": {},
   "outputs": [],
   "source": []
  }
 ],
 "metadata": {
  "kernelspec": {
   "display_name": "Python 3",
   "language": "python",
   "name": "python3"
  },
  "language_info": {
   "codemirror_mode": {
    "name": "ipython",
    "version": 3
   },
   "file_extension": ".py",
   "mimetype": "text/x-python",
   "name": "python",
   "nbconvert_exporter": "python",
   "pygments_lexer": "ipython3",
   "version": "3.8.8"
  }
 },
 "nbformat": 4,
 "nbformat_minor": 5
}
