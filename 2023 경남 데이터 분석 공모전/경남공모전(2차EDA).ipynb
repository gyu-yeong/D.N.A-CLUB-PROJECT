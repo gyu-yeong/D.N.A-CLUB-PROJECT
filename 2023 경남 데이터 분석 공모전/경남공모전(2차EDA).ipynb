{
 "cells": [
  {
   "cell_type": "markdown",
   "id": "b100ec07",
   "metadata": {},
   "source": [
    "### EDA 목표\n",
    "#### 데이터 행정동으로 통일\n",
    "#### 1. 구별 평균소득, 행정동별 평균소득 확인 (규영)\n",
    "#### 2. 구별 가구 수, 행정동별 가구 수 (규영)"
   ]
  },
  {
   "cell_type": "code",
   "execution_count": 29,
   "id": "79588cfc",
   "metadata": {},
   "outputs": [],
   "source": [
    "import pandas as pd\n",
    "import pandas as pd\n",
    "import matplotlib.pyplot as plt\n",
    "import warnings\n",
    "warnings.filterwarnings(\"ignore\")\n",
    "\n",
    "#한글 깨짐 방지 코드\n",
    "from matplotlib import rc, style, font_manager\n",
    "font_name = font_manager.FontProperties(fname=\"C:/windows/Fonts/malgun.ttf\").get_name()\n",
    "rc('font', family=font_name)\n",
    "style.use('ggplot')\n",
    "\n",
    "url = \"C:/Users/koaro/OneDrive/바탕 화면/경남공모전/인구통계 데이터/전처리한 파일/\""
   ]
  },
  {
   "cell_type": "code",
   "execution_count": 12,
   "id": "6905992d",
   "metadata": {},
   "outputs": [
    {
     "data": {
      "text/html": [
       "<div>\n",
       "<style scoped>\n",
       "    .dataframe tbody tr th:only-of-type {\n",
       "        vertical-align: middle;\n",
       "    }\n",
       "\n",
       "    .dataframe tbody tr th {\n",
       "        vertical-align: top;\n",
       "    }\n",
       "\n",
       "    .dataframe thead th {\n",
       "        text-align: right;\n",
       "    }\n",
       "</style>\n",
       "<table border=\"1\" class=\"dataframe\">\n",
       "  <thead>\n",
       "    <tr style=\"text-align: right;\">\n",
       "      <th></th>\n",
       "      <th>adstrd_nm</th>\n",
       "      <th>자치구</th>\n",
       "      <th>읍면동</th>\n",
       "      <th>legaldong_nm</th>\n",
       "      <th>ave_income_amt</th>\n",
       "    </tr>\n",
       "  </thead>\n",
       "  <tbody>\n",
       "    <tr>\n",
       "      <th>0</th>\n",
       "      <td>경상남도 창원시 의창구 동읍</td>\n",
       "      <td>의창구</td>\n",
       "      <td>동읍</td>\n",
       "      <td>용강리</td>\n",
       "      <td>2302.14</td>\n",
       "    </tr>\n",
       "    <tr>\n",
       "      <th>1</th>\n",
       "      <td>경상남도 창원시 의창구 동읍</td>\n",
       "      <td>의창구</td>\n",
       "      <td>동읍</td>\n",
       "      <td>용전리</td>\n",
       "      <td>2376.02</td>\n",
       "    </tr>\n",
       "    <tr>\n",
       "      <th>2</th>\n",
       "      <td>경상남도 창원시 의창구 동읍</td>\n",
       "      <td>의창구</td>\n",
       "      <td>동읍</td>\n",
       "      <td>남산리</td>\n",
       "      <td>2711.18</td>\n",
       "    </tr>\n",
       "    <tr>\n",
       "      <th>3</th>\n",
       "      <td>경상남도 창원시 의창구 동읍</td>\n",
       "      <td>의창구</td>\n",
       "      <td>동읍</td>\n",
       "      <td>덕천리</td>\n",
       "      <td>3135.00</td>\n",
       "    </tr>\n",
       "    <tr>\n",
       "      <th>4</th>\n",
       "      <td>경상남도 창원시 의창구 동읍</td>\n",
       "      <td>의창구</td>\n",
       "      <td>동읍</td>\n",
       "      <td>덕산리</td>\n",
       "      <td>2702.03</td>\n",
       "    </tr>\n",
       "    <tr>\n",
       "      <th>...</th>\n",
       "      <td>...</td>\n",
       "      <td>...</td>\n",
       "      <td>...</td>\n",
       "      <td>...</td>\n",
       "      <td>...</td>\n",
       "    </tr>\n",
       "    <tr>\n",
       "      <th>326</th>\n",
       "      <td>경상남도 창원시마산회원구 합성2동</td>\n",
       "      <td>마산회원구</td>\n",
       "      <td>합성2동</td>\n",
       "      <td>합성동</td>\n",
       "      <td>2496.11</td>\n",
       "    </tr>\n",
       "    <tr>\n",
       "      <th>327</th>\n",
       "      <td>경상남도 창원시마산회원구 구암1동</td>\n",
       "      <td>마산회원구</td>\n",
       "      <td>구암1동</td>\n",
       "      <td>구암동</td>\n",
       "      <td>2522.92</td>\n",
       "    </tr>\n",
       "    <tr>\n",
       "      <th>328</th>\n",
       "      <td>경상남도 창원시마산회원구 구암2동</td>\n",
       "      <td>마산회원구</td>\n",
       "      <td>구암2동</td>\n",
       "      <td>구암동</td>\n",
       "      <td>2522.92</td>\n",
       "    </tr>\n",
       "    <tr>\n",
       "      <th>329</th>\n",
       "      <td>경상남도 창원시마산회원구 봉암동</td>\n",
       "      <td>마산회원구</td>\n",
       "      <td>봉암동</td>\n",
       "      <td>봉암동</td>\n",
       "      <td>2147.22</td>\n",
       "    </tr>\n",
       "    <tr>\n",
       "      <th>330</th>\n",
       "      <td>경상남도 창원시마산회원구 봉암동</td>\n",
       "      <td>마산회원구</td>\n",
       "      <td>봉암동</td>\n",
       "      <td>양덕동</td>\n",
       "      <td>2689.64</td>\n",
       "    </tr>\n",
       "  </tbody>\n",
       "</table>\n",
       "<p>331 rows × 5 columns</p>\n",
       "</div>"
      ],
      "text/plain": [
       "              adstrd_nm    자치구   읍면동 legaldong_nm  ave_income_amt\n",
       "0       경상남도 창원시 의창구 동읍    의창구    동읍          용강리         2302.14\n",
       "1       경상남도 창원시 의창구 동읍    의창구    동읍          용전리         2376.02\n",
       "2       경상남도 창원시 의창구 동읍    의창구    동읍          남산리         2711.18\n",
       "3       경상남도 창원시 의창구 동읍    의창구    동읍          덕천리         3135.00\n",
       "4       경상남도 창원시 의창구 동읍    의창구    동읍          덕산리         2702.03\n",
       "..                  ...    ...   ...          ...             ...\n",
       "326  경상남도 창원시마산회원구 합성2동  마산회원구  합성2동          합성동         2496.11\n",
       "327  경상남도 창원시마산회원구 구암1동  마산회원구  구암1동          구암동         2522.92\n",
       "328  경상남도 창원시마산회원구 구암2동  마산회원구  구암2동          구암동         2522.92\n",
       "329   경상남도 창원시마산회원구 봉암동  마산회원구   봉암동          봉암동         2147.22\n",
       "330   경상남도 창원시마산회원구 봉암동  마산회원구   봉암동          양덕동         2689.64\n",
       "\n",
       "[331 rows x 5 columns]"
      ]
     },
     "execution_count": 12,
     "metadata": {},
     "output_type": "execute_result"
    }
   ],
   "source": [
    "df1 = pd.read_csv(url+\"읍면동별평균소득.csv\", encoding='cp949').iloc[:,1:]\n",
    "df1"
   ]
  },
  {
   "cell_type": "code",
   "execution_count": 24,
   "id": "9745d5b3",
   "metadata": {},
   "outputs": [
    {
     "name": "stdout",
     "output_type": "stream",
     "text": [
      "읍면동 개수: 55\n",
      "['동읍' '북면' '대산면' '의창동' '팔룡동' '명곡동' '봉림동' '용지동' '반송동' '중앙동' '상남동' '사파동'\n",
      " '가음정동' '성주동' '웅남동' '충무동' '여좌동' '태백동' '경화동' '병암동' '석동' '이동' '자은동' '덕산동'\n",
      " '풍호동' '웅천동' '웅동1동' '웅동2동' '구산면' '진동면' '진북면' '진전면' '현동' '가포동' '월영동' '문화동'\n",
      " '반월중앙동' '완월동' '자산동' '오동동' '교방동' '합포동' '산호동' '내서읍' '회원1동' '회원2동' '석전동'\n",
      " '회성동' '양덕1동' '양덕2동' '합성1동' '합성2동' '구암1동' '구암2동' '봉암동']\n"
     ]
    }
   ],
   "source": [
    "print('읍면동 개수:',len(df1['읍면동'].unique()))\n",
    "print(df1['읍면동'].unique())"
   ]
  },
  {
   "cell_type": "markdown",
   "id": "3992374e",
   "metadata": {},
   "source": [
    "#### (1) 자치구 기준 소득합계"
   ]
  },
  {
   "cell_type": "code",
   "execution_count": 40,
   "id": "cd223c94",
   "metadata": {},
   "outputs": [
    {
     "data": {
      "image/png": "[encoded data removed]",
      "text/plain": [
       "<Figure size 1000x500 with 2 Axes>"
      ]
     },
     "metadata": {},
     "output_type": "display_data"
    }
   ],
   "source": [
    "df_gu_m = df1.groupby('자치구')['ave_income_amt'].mean()\n",
    "df_gu_s = df1.groupby('자치구')['ave_income_amt'].sum()\n",
    "\n",
    "plt.subplot(1,2,1)\n",
    "df_gu_m.plot(kind='bar', figsize=(10, 5))\n",
    "plt.title('평균 소득')\n",
    "plt.xlabel('자치구')\n",
    "plt.ylabel('평균 소득')\n",
    "\n",
    "plt.subplot(1,2,2)\n",
    "df_gu_s.plot(kind='bar', figsize=(10, 5))\n",
    "plt.title('평균 소득 합계')\n",
    "plt.xlabel('자치구')\n",
    "plt.ylabel('평균 소득 합계')\n",
    "\n",
    "plt.show()"
   ]
  },
  {
   "cell_type": "code",
   "execution_count": null,
   "id": "604fce37",
   "metadata": {},
   "outputs": [],
   "source": []
  }
 ],
 "metadata": {
  "kernelspec": {
   "display_name": "Python 3 (ipykernel)",
   "language": "python",
   "name": "python3"
  },
  "language_info": {
   "codemirror_mode": {
    "name": "ipython",
    "version": 3
   },
   "file_extension": ".py",
   "mimetype": "text/x-python",
   "name": "python",
   "nbconvert_exporter": "python",
   "pygments_lexer": "ipython3",
   "version": "3.9.13"
  }
 },
 "nbformat": 4,
 "nbformat_minor": 5
}
