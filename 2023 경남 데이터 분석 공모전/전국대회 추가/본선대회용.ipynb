{
 "cells": [
  {
   "cell_type": "code",
   "execution_count": 318,
   "id": "6e41637e",
   "metadata": {},
   "outputs": [],
   "source": [
    "import pandas as pd"
   ]
  },
  {
   "cell_type": "code",
   "execution_count": 319,
   "id": "030a278c",
   "metadata": {},
   "outputs": [],
   "source": [
    "df1 = pd.read_excel(\"C:/박규영/경남공모전/본선자료/1.병원정보서비스 2022.12.xlsx\")\n",
    "df3 = pd.read_csv(\"C:/박규영/경남공모전/변수 종합(full 버전).csv\")"
   ]
  },
  {
   "cell_type": "markdown",
   "id": "fe42406c",
   "metadata": {},
   "source": [
    "로딩 오래 걸리니까 중간 저장해놓는걸루"
   ]
  },
  {
   "cell_type": "code",
   "execution_count": 320,
   "id": "53650d18",
   "metadata": {},
   "outputs": [],
   "source": [
    "col = ['요양기관명', '종별코드명', '시군구코드명',\n",
    "       '읍면동', '우편번호', '주소', '총의사수', '의과일반의 인원수','좌표(X)', '좌표(Y)']\n",
    "df1 = df1[col] # 필요컬럼만 추출\n",
    "\n",
    "df1 = df1[df1['시군구코드명'].str.contains('창원')] # 창원시만 추출 \n",
    "\n",
    "df1 = df1[(df1['종별코드명'] != '정신병원') & (df1['종별코드명'] != '요양병원') & (df1['종별코드명'] != '조산원')] # 필요병원만 추출\n",
    "df1 = df1[~df1['요양기관명'].str.contains('산부')] # 종별코드명에서 의원으로 나타났지만 산부인과인 의원 제외\n",
    "# df1 = df1[~df1['요양기관명'].str.contains('피부')] # 종별코드명에서 의원으로 나타났지만 피부과인 의원 제외\n",
    "\n",
    "df1['읍면동'] = df1['주소'].str.extract(r'\\((.*?)\\)') # 읍면동 추출1\n",
    "df1['읍면동'] = df1['읍면동'].str.split(',').str[0] # 읍면동 추출2"
   ]
  },
  {
   "cell_type": "code",
   "execution_count": 72,
   "id": "ca65d838",
   "metadata": {},
   "outputs": [
    {
     "data": {
      "text/plain": [
       "array(['합성동', '중앙동3가', '중앙동', '이동', '청아병원', '월남동2가', '명서동', '성주동', '사림동',\n",
       "       '석전동', '상남동', '가포동', '팔용동', '서상동', '중앙동2가', '삼계웰빙프라자빌딩', '창포동3가',\n",
       "       '자은동', '용원동', '남성동', '소계동', '양덕동', nan, '신포동2가', '장천동', '동성동',\n",
       "       '중동', '남양동', '오동동', '봉곡동', '신촌동', '반지동', '반림동', '성산동', '가음정동',\n",
       "       '가음동', '산호동', '서성동', '신월동', '마산운전면허시험장', '회원동', '용호동', '고운맘산부인과의원',\n",
       "       '월영동', '내서읍', '석동', '여좌동', '실로암빌딩', '해운동', '진동면', '회성동', '메디팜중앙약국',\n",
       "       '대방동', '대원동', '두월동1가', '남문동', '내동', '사파동', '풍호동', '하나로마트', '도계동',\n",
       "       '덕산빌딩2층', '귀곡동', '701호일부', '포인포', '튼튼한약국', '교방동', '경화동', '2층 203호',\n",
       "       '월남동5가', '월남동4가', '소답동', '대산면', '송학동', '충무동', '봉암동', '',\n",
       "       '코오롱그랜드쇼핑', '하이존빌딩', '현동', '수성동', '구암동', '북면', '신성네스트빌', '자산동',\n",
       "       '덕산동', '안민동', '동정동', '눈나라안경', '봉림동', '새마을금고', '화진빌딩', '303',\n",
       "       '재성빌딩 204호', '마천동', '남해횟집', '2층', '부림동', '중앙상가', '2', '가나약국',\n",
       "       '장군동3가', '남산동', '지상휘신경외과', '북동', '열린약국', '창동', '한국한센복지협회', '중앙동1가',\n",
       "       '진동수산업협동조합', '완월동', '중성동', '파워콤', '코아상가 401호', '삼계대동이미지2차아파트',\n",
       "       '동읍빌딩', '교원동', '신약국', '현대힐프라자 401호', '961-2 A동 1층', '청안동',\n",
       "       '코오롱하늘채1차아파트', '월남동3가', '화진빌딩 302', '신천주빌딩301호', '구산면보건지소',\n",
       "       '내서읍보건지소', '진북면', '진전면사무소', '대산면보건지소', '동읍', '수정보건진료소', '시락보건진료소',\n",
       "       '의산보건진료소', '402', '재생빌딩301호', '홍삼나라', '화천동', '안골동', '태평동', '장군동5가',\n",
       "       '월남동1가', '포구정인수한의원', '장군동4가', '창선동', '근화동'], dtype=object)"
      ]
     },
     "execution_count": 72,
     "metadata": {},
     "output_type": "execute_result"
    }
   ],
   "source": [
    "df1['읍면동'].unique()"
   ]
  },
  {
   "cell_type": "code",
   "execution_count": 151,
   "id": "24cacb4f",
   "metadata": {},
   "outputs": [
    {
     "data": {
      "text/plain": [
       "1261"
      ]
     },
     "execution_count": 151,
     "metadata": {},
     "output_type": "execute_result"
    }
   ],
   "source": [
    "len(df1)"
   ]
  },
  {
   "cell_type": "markdown",
   "id": "dec1da25",
   "metadata": {},
   "source": [
    "- 읍면동이 ㅇㅇ동 형태가 아닌 데이터만 따로 부름\n",
    "- 아마 동이 포함되어 있지 않은 애들 중에는 '내서읍' '동읍'이런애들이라 그럼"
   ]
  },
  {
   "cell_type": "markdown",
   "id": "495fb41c",
   "metadata": {},
   "source": [
    "### 동이 포함된 데이터 vs 동이 포함되지 않은 데이터 구분\n",
    "- 동이 포함된 데이터: 동 이름이 아니라 102동 이런애들 있으니 추가 전처리 필요\n",
    "- 동이 포함되지 않은 데이터: 내서읍, 동읍 이런애들이니까 데이터 확인 후 전처리"
   ]
  },
  {
   "cell_type": "markdown",
   "id": "fe12e0b9",
   "metadata": {},
   "source": [
    "#### 1. 동이 포함되지 않은 데이터"
   ]
  },
  {
   "cell_type": "code",
   "execution_count": 321,
   "id": "0ae23687",
   "metadata": {},
   "outputs": [
    {
     "name": "stderr",
     "output_type": "stream",
     "text": [
      "C:\\Users\\koaro\\AppData\\Local\\Temp\\ipykernel_18696\\4172095476.py:4: SettingWithCopyWarning: \n",
      "A value is trying to be set on a copy of a slice from a DataFrame.\n",
      "Try using .loc[row_indexer,col_indexer] = value instead\n",
      "\n",
      "See the caveats in the documentation: https://pandas.pydata.org/pandas-docs/stable/user_guide/indexing.html#returning-a-view-versus-a-copy\n",
      "  error_df1['읍면동'] = error_df1['주소'].str.split(' ').str[3]\n"
     ]
    }
   ],
   "source": [
    "df1['읍면동'] = df1['읍면동'].astype(str) # str로 바꿔야 밑에께 돌아감\n",
    "\n",
    "error_df1 = df1[~df1['읍면동'].str.contains('동')]\n",
    "error_df1['읍면동'] = error_df1['주소'].str.split(' ').str[3]"
   ]
  },
  {
   "cell_type": "code",
   "execution_count": 153,
   "id": "5893ccdc",
   "metadata": {},
   "outputs": [
    {
     "data": {
      "text/plain": [
       "요양기관명        0\n",
       "종별코드명        0\n",
       "시군구코드명       0\n",
       "읍면동          0\n",
       "우편번호         0\n",
       "주소           0\n",
       "총의사수         0\n",
       "의과일반의 인원수    0\n",
       "좌표(X)        0\n",
       "좌표(Y)        0\n",
       "dtype: int64"
      ]
     },
     "execution_count": 153,
     "metadata": {},
     "output_type": "execute_result"
    }
   ],
   "source": [
    "error_df1.isnull().sum()"
   ]
  },
  {
   "cell_type": "code",
   "execution_count": 154,
   "id": "2b2ec364",
   "metadata": {},
   "outputs": [
    {
     "data": {
      "text/plain": [
       "array(['내서읍', '진동면', '북면', '가양로124번길', '진해대로776번길', '동읍', '대산면', '진해대로',\n",
       "       '구산면', '3·15대로', '진북면', '진전면'], dtype=object)"
      ]
     },
     "execution_count": 154,
     "metadata": {},
     "output_type": "execute_result"
    }
   ],
   "source": [
    "error_df1['읍면동'].unique()"
   ]
  },
  {
   "cell_type": "markdown",
   "id": "23eae639",
   "metadata": {},
   "source": [
    "- 결측값은 없으나 unique()를 보면 이상한 애들이 있음\n",
    "- 이상한 애들만 따로 불러서 확인 작업 필요"
   ]
  },
  {
   "cell_type": "code",
   "execution_count": 322,
   "id": "8fba4ef6",
   "metadata": {},
   "outputs": [
    {
     "data": {
      "text/html": [
       "<div>\n",
       "<style scoped>\n",
       "    .dataframe tbody tr th:only-of-type {\n",
       "        vertical-align: middle;\n",
       "    }\n",
       "\n",
       "    .dataframe tbody tr th {\n",
       "        vertical-align: top;\n",
       "    }\n",
       "\n",
       "    .dataframe thead th {\n",
       "        text-align: right;\n",
       "    }\n",
       "</style>\n",
       "<table border=\"1\" class=\"dataframe\">\n",
       "  <thead>\n",
       "    <tr style=\"text-align: right;\">\n",
       "      <th></th>\n",
       "      <th>요양기관명</th>\n",
       "      <th>종별코드명</th>\n",
       "      <th>시군구코드명</th>\n",
       "      <th>읍면동</th>\n",
       "      <th>우편번호</th>\n",
       "      <th>주소</th>\n",
       "      <th>총의사수</th>\n",
       "      <th>의과일반의 인원수</th>\n",
       "      <th>좌표(X)</th>\n",
       "      <th>좌표(Y)</th>\n",
       "    </tr>\n",
       "  </thead>\n",
       "  <tbody>\n",
       "    <tr>\n",
       "      <th>5664</th>\n",
       "      <td>구교준이비인후과의원</td>\n",
       "      <td>의원</td>\n",
       "      <td>창원성산구</td>\n",
       "      <td>가양로124번길</td>\n",
       "      <td>51465</td>\n",
       "      <td>경상남도 창원시 성산구 가양로124번길 17-12 301호(실로암빌딩) (대방동)</td>\n",
       "      <td>1</td>\n",
       "      <td>0</td>\n",
       "      <td>128.707867</td>\n",
       "      <td>35.207807</td>\n",
       "    </tr>\n",
       "    <tr>\n",
       "      <th>9696</th>\n",
       "      <td>더나은정형외과의원</td>\n",
       "      <td>의원</td>\n",
       "      <td>창원진해구</td>\n",
       "      <td>진해대로776번길</td>\n",
       "      <td>51658</td>\n",
       "      <td>경상남도 창원시 진해구 진해대로776번길 28 진해농협종합회관(하나로마트) B동 2...</td>\n",
       "      <td>1</td>\n",
       "      <td>0</td>\n",
       "      <td>128.698087</td>\n",
       "      <td>35.156625</td>\n",
       "    </tr>\n",
       "    <tr>\n",
       "      <th>13815</th>\n",
       "      <td>바른피부과의원</td>\n",
       "      <td>의원</td>\n",
       "      <td>창원진해구</td>\n",
       "      <td>진해대로776번길</td>\n",
       "      <td>51658</td>\n",
       "      <td>경상남도 창원시 진해구 진해대로776번길 28 진해농협종합회관(하나로마트) 석동동 ...</td>\n",
       "      <td>1</td>\n",
       "      <td>0</td>\n",
       "      <td>128.698087</td>\n",
       "      <td>35.156625</td>\n",
       "    </tr>\n",
       "    <tr>\n",
       "      <th>16968</th>\n",
       "      <td>상쾌한이비인후과의원</td>\n",
       "      <td>의원</td>\n",
       "      <td>창원진해구</td>\n",
       "      <td>진해대로</td>\n",
       "      <td>51642</td>\n",
       "      <td>경상남도 창원시 진해구 진해대로 999 202호, 207호(하이존빌딩) (자은동)</td>\n",
       "      <td>1</td>\n",
       "      <td>0</td>\n",
       "      <td>128.707814</td>\n",
       "      <td>35.140264</td>\n",
       "    </tr>\n",
       "    <tr>\n",
       "      <th>25838</th>\n",
       "      <td>예일이비인후과의원</td>\n",
       "      <td>의원</td>\n",
       "      <td>창원마산회원구</td>\n",
       "      <td>3·15대로</td>\n",
       "      <td>51304</td>\n",
       "      <td>경상남도 창원시 마산회원구 3·15대로 645 예일메디컬센터 2,8,9층 3층(30...</td>\n",
       "      <td>5</td>\n",
       "      <td>0</td>\n",
       "      <td>128.576436</td>\n",
       "      <td>35.230974</td>\n",
       "    </tr>\n",
       "    <tr>\n",
       "      <th>31900</th>\n",
       "      <td>조준형내과의원</td>\n",
       "      <td>의원</td>\n",
       "      <td>창원진해구</td>\n",
       "      <td>진해대로776번길</td>\n",
       "      <td>51658</td>\n",
       "      <td>경상남도 창원시 진해구 진해대로776번길 28 진해농협종합회관(하나로마트) B동 2...</td>\n",
       "      <td>1</td>\n",
       "      <td>0</td>\n",
       "      <td>128.698087</td>\n",
       "      <td>35.156625</td>\n",
       "    </tr>\n",
       "    <tr>\n",
       "      <th>49076</th>\n",
       "      <td>안종우통합치과의원</td>\n",
       "      <td>치과의원</td>\n",
       "      <td>창원진해구</td>\n",
       "      <td>진해대로776번길</td>\n",
       "      <td>51658</td>\n",
       "      <td>경상남도 창원시 진해구 진해대로776번길 28 진해농협종합회관(하나로마트) 1층 (석동)</td>\n",
       "      <td>1</td>\n",
       "      <td>0</td>\n",
       "      <td>128.698087</td>\n",
       "      <td>35.156625</td>\n",
       "    </tr>\n",
       "    <tr>\n",
       "      <th>68493</th>\n",
       "      <td>서울부부한의원</td>\n",
       "      <td>한의원</td>\n",
       "      <td>창원진해구</td>\n",
       "      <td>진해대로776번길</td>\n",
       "      <td>51658</td>\n",
       "      <td>경상남도 창원시 진해구 진해대로776번길 28 진해농협종합회관(하나로마트) 1층 (석동)</td>\n",
       "      <td>2</td>\n",
       "      <td>0</td>\n",
       "      <td>128.698087</td>\n",
       "      <td>35.156625</td>\n",
       "    </tr>\n",
       "  </tbody>\n",
       "</table>\n",
       "</div>"
      ],
      "text/plain": [
       "            요양기관명 종별코드명   시군구코드명        읍면동   우편번호  \\\n",
       "5664   구교준이비인후과의원    의원    창원성산구   가양로124번길  51465   \n",
       "9696    더나은정형외과의원    의원    창원진해구  진해대로776번길  51658   \n",
       "13815     바른피부과의원    의원    창원진해구  진해대로776번길  51658   \n",
       "16968  상쾌한이비인후과의원    의원    창원진해구       진해대로  51642   \n",
       "25838   예일이비인후과의원    의원  창원마산회원구     3·15대로  51304   \n",
       "31900     조준형내과의원    의원    창원진해구  진해대로776번길  51658   \n",
       "49076   안종우통합치과의원  치과의원    창원진해구  진해대로776번길  51658   \n",
       "68493     서울부부한의원   한의원    창원진해구  진해대로776번길  51658   \n",
       "\n",
       "                                                      주소  총의사수  의과일반의 인원수  \\\n",
       "5664       경상남도 창원시 성산구 가양로124번길 17-12 301호(실로암빌딩) (대방동)     1          0   \n",
       "9696   경상남도 창원시 진해구 진해대로776번길 28 진해농협종합회관(하나로마트) B동 2...     1          0   \n",
       "13815  경상남도 창원시 진해구 진해대로776번길 28 진해농협종합회관(하나로마트) 석동동 ...     1          0   \n",
       "16968      경상남도 창원시 진해구 진해대로 999 202호, 207호(하이존빌딩) (자은동)     1          0   \n",
       "25838  경상남도 창원시 마산회원구 3·15대로 645 예일메디컬센터 2,8,9층 3층(30...     5          0   \n",
       "31900  경상남도 창원시 진해구 진해대로776번길 28 진해농협종합회관(하나로마트) B동 2...     1          0   \n",
       "49076  경상남도 창원시 진해구 진해대로776번길 28 진해농협종합회관(하나로마트) 1층 (석동)     1          0   \n",
       "68493  경상남도 창원시 진해구 진해대로776번길 28 진해농협종합회관(하나로마트) 1층 (석동)     2          0   \n",
       "\n",
       "            좌표(X)      좌표(Y)  \n",
       "5664   128.707867  35.207807  \n",
       "9696   128.698087  35.156625  \n",
       "13815  128.698087  35.156625  \n",
       "16968  128.707814  35.140264  \n",
       "25838  128.576436  35.230974  \n",
       "31900  128.698087  35.156625  \n",
       "49076  128.698087  35.156625  \n",
       "68493  128.698087  35.156625  "
      ]
     },
     "execution_count": 322,
     "metadata": {},
     "output_type": "execute_result"
    }
   ],
   "source": [
    "error_list = ['가양로124번길', '진해대로776번길','중동중앙로','진해대로', '3·15대로']\n",
    "error_df1[error_df1['읍면동'].str.contains('|'.join(error_list))]"
   ]
  },
  {
   "cell_type": "markdown",
   "id": "686e478c",
   "metadata": {},
   "source": [
    "주소가 끝까지 안나와있는 애들의 경우 네이버 검색, 보이는 애들의 경우 그대로 처리"
   ]
  },
  {
   "cell_type": "code",
   "execution_count": 323,
   "id": "3ef595cd",
   "metadata": {},
   "outputs": [],
   "source": [
    "error_df1.loc[5664, '읍면동'] = '대방동'\n",
    "error_df1.loc[9696, '읍면동'] = '석동'\n",
    "error_df1.loc[13815, '읍면동'] = '석동'\n",
    "error_df1.loc[16968, '읍면동'] = '자은동'\n",
    "error_df1.loc[25838, '읍면동'] = '석전동'\n",
    "error_df1.loc[31900, '읍면동'] = '석동'\n",
    "error_df1.loc[49076, '읍면동'] = '석동'\n",
    "error_df1.loc[68493, '읍면동'] = '석동'"
   ]
  },
  {
   "cell_type": "markdown",
   "id": "ff580ad6",
   "metadata": {},
   "source": [
    "#### 2. 동이 포함된 데이터"
   ]
  },
  {
   "cell_type": "code",
   "execution_count": 324,
   "id": "fa9e22a4",
   "metadata": {},
   "outputs": [],
   "source": [
    "none_error_df1 = df1[df1['읍면동'].str.contains('동')]"
   ]
  },
  {
   "cell_type": "code",
   "execution_count": 163,
   "id": "f6b397c8",
   "metadata": {},
   "outputs": [
    {
     "data": {
      "text/plain": [
       "array(['합성동', '중앙동3가', '중앙동', '이동', '월남동2가', '명서동', '성주동', '사림동', '석전동',\n",
       "       '상남동', '가포동', '팔용동', '서상동', '중앙동2가', '창포동3가', '자은동', '용원동', '남성동',\n",
       "       '소계동', '양덕동', '신포동2가', '장천동', '동성동', '중동', '남양동', '오동동', '봉곡동',\n",
       "       '신촌동', '반지동', '반림동', '성산동', '가음정동', '가음동', '산호동', '서성동', '신월동',\n",
       "       '회원동', '용호동', '월영동', '석동', '여좌동', '해운동', '진동면', '회성동', '대방동',\n",
       "       '대원동', '두월동1가', '남문동', '내동', '사파동', '풍호동', '도계동', '귀곡동', '교방동',\n",
       "       '경화동', '월남동5가', '소답동', '송학동', '충무동', '봉암동', '현동', '수성동', '구암동',\n",
       "       '월남동4가', '자산동', '덕산동', '안민동', '봉림동', '마천동', '부림동', '장군동3가', '남산동',\n",
       "       '북동', '동정동', '창동', '중앙동1가', '진동수산업협동조합', '완월동', '중성동',\n",
       "       '삼계대동이미지2차아파트', '동읍빌딩', '교원동', '961-2 A동 1층', '청안동', '월남동3가', '동읍',\n",
       "       '화천동', '안골동', '태평동', '장군동5가', '월남동1가', '장군동4가', '창선동', '근화동'],\n",
       "      dtype=object)"
      ]
     },
     "execution_count": 163,
     "metadata": {},
     "output_type": "execute_result"
    }
   ],
   "source": [
    "none_error_df1['읍면동'].unique()"
   ]
  },
  {
   "cell_type": "code",
   "execution_count": 325,
   "id": "f2957fbc",
   "metadata": {},
   "outputs": [
    {
     "data": {
      "text/html": [
       "<div>\n",
       "<style scoped>\n",
       "    .dataframe tbody tr th:only-of-type {\n",
       "        vertical-align: middle;\n",
       "    }\n",
       "\n",
       "    .dataframe tbody tr th {\n",
       "        vertical-align: top;\n",
       "    }\n",
       "\n",
       "    .dataframe thead th {\n",
       "        text-align: right;\n",
       "    }\n",
       "</style>\n",
       "<table border=\"1\" class=\"dataframe\">\n",
       "  <thead>\n",
       "    <tr style=\"text-align: right;\">\n",
       "      <th></th>\n",
       "      <th>요양기관명</th>\n",
       "      <th>종별코드명</th>\n",
       "      <th>시군구코드명</th>\n",
       "      <th>읍면동</th>\n",
       "      <th>우편번호</th>\n",
       "      <th>주소</th>\n",
       "      <th>총의사수</th>\n",
       "      <th>의과일반의 인원수</th>\n",
       "      <th>좌표(X)</th>\n",
       "      <th>좌표(Y)</th>\n",
       "    </tr>\n",
       "  </thead>\n",
       "  <tbody>\n",
       "    <tr>\n",
       "      <th>37819</th>\n",
       "      <td>혜승의원</td>\n",
       "      <td>의원</td>\n",
       "      <td>창원마산합포구</td>\n",
       "      <td>진동수산업협동조합</td>\n",
       "      <td>51792</td>\n",
       "      <td>경상남도 창원시 마산합포구 진동면 해양관광로 20 (진동수산업협동조합)</td>\n",
       "      <td>1</td>\n",
       "      <td>1</td>\n",
       "      <td>128.486745</td>\n",
       "      <td>35.113100</td>\n",
       "    </tr>\n",
       "    <tr>\n",
       "      <th>41653</th>\n",
       "      <td>대동치과의원</td>\n",
       "      <td>치과의원</td>\n",
       "      <td>창원마산회원구</td>\n",
       "      <td>삼계대동이미지2차아파트</td>\n",
       "      <td>51240</td>\n",
       "      <td>경상남도 창원시 마산회원구 내서읍 광려로 37 (삼계대동이미지2차아파트)</td>\n",
       "      <td>1</td>\n",
       "      <td>0</td>\n",
       "      <td>128.502832</td>\n",
       "      <td>35.223295</td>\n",
       "    </tr>\n",
       "    <tr>\n",
       "      <th>42584</th>\n",
       "      <td>류치과의원</td>\n",
       "      <td>치과의원</td>\n",
       "      <td>창원의창구</td>\n",
       "      <td>동읍빌딩</td>\n",
       "      <td>51132</td>\n",
       "      <td>경상남도 창원시 의창구 동읍 의창대로 854 2층 201호 (동읍빌딩)</td>\n",
       "      <td>1</td>\n",
       "      <td>0</td>\n",
       "      <td>128.684600</td>\n",
       "      <td>35.276840</td>\n",
       "    </tr>\n",
       "    <tr>\n",
       "      <th>50733</th>\n",
       "      <td>예담치과의원</td>\n",
       "      <td>치과의원</td>\n",
       "      <td>창원의창구</td>\n",
       "      <td>961-2 A동 1층</td>\n",
       "      <td>51103</td>\n",
       "      <td>경상남도 창원시 의창구 북면 천주로 1107 (961-2 A동 1층)</td>\n",
       "      <td>1</td>\n",
       "      <td>0</td>\n",
       "      <td>128.606828</td>\n",
       "      <td>35.349275</td>\n",
       "    </tr>\n",
       "  </tbody>\n",
       "</table>\n",
       "</div>"
      ],
      "text/plain": [
       "        요양기관명 종별코드명   시군구코드명           읍면동   우편번호  \\\n",
       "37819    혜승의원    의원  창원마산합포구     진동수산업협동조합  51792   \n",
       "41653  대동치과의원  치과의원  창원마산회원구  삼계대동이미지2차아파트  51240   \n",
       "42584   류치과의원  치과의원    창원의창구          동읍빌딩  51132   \n",
       "50733  예담치과의원  치과의원    창원의창구   961-2 A동 1층  51103   \n",
       "\n",
       "                                             주소  총의사수  의과일반의 인원수       좌표(X)  \\\n",
       "37819   경상남도 창원시 마산합포구 진동면 해양관광로 20 (진동수산업협동조합)     1          1  128.486745   \n",
       "41653  경상남도 창원시 마산회원구 내서읍 광려로 37 (삼계대동이미지2차아파트)     1          0  128.502832   \n",
       "42584   경상남도 창원시 의창구 동읍 의창대로 854 2층 201호 (동읍빌딩)     1          0  128.684600   \n",
       "50733    경상남도 창원시 의창구 북면 천주로 1107 (961-2 A동 1층)     1          0  128.606828   \n",
       "\n",
       "           좌표(Y)  \n",
       "37819  35.113100  \n",
       "41653  35.223295  \n",
       "42584  35.276840  \n",
       "50733  35.349275  "
      ]
     },
     "execution_count": 325,
     "metadata": {},
     "output_type": "execute_result"
    }
   ],
   "source": [
    "non_list = ['진동수산업협동조합','삼계대동이미지2차아파트','동읍빌딩','961-2 A동 1층']\n",
    "none_error_df1[none_error_df1['읍면동'].str.contains('|'.join(non_list))]"
   ]
  },
  {
   "cell_type": "code",
   "execution_count": 326,
   "id": "975864e0",
   "metadata": {},
   "outputs": [],
   "source": [
    "none_error_df1.loc[37819, '읍면동'] = '진동면' \n",
    "none_error_df1.loc[41653, '읍면동'] = '내서읍 ' \n",
    "none_error_df1.loc[42584, '읍면동'] = '동읍 ' \n",
    "none_error_df1.loc[50733, '읍면동'] = '북면  ' "
   ]
  },
  {
   "cell_type": "markdown",
   "id": "cd73e6f2",
   "metadata": {},
   "source": [
    "#### 3. 두 데이터 병함"
   ]
  },
  {
   "cell_type": "code",
   "execution_count": 168,
   "id": "800d942e",
   "metadata": {},
   "outputs": [
    {
     "data": {
      "text/plain": [
       "1261"
      ]
     },
     "execution_count": 168,
     "metadata": {},
     "output_type": "execute_result"
    }
   ],
   "source": [
    "len(error_df1) + len(none_error_df1) # 길이 확인"
   ]
  },
  {
   "cell_type": "code",
   "execution_count": 327,
   "id": "40a3eac9",
   "metadata": {},
   "outputs": [],
   "source": [
    "df1 = pd.concat([none_error_df1, error_df1], ignore_index=True)"
   ]
  },
  {
   "cell_type": "markdown",
   "id": "2fbca776",
   "metadata": {},
   "source": [
    "### 읍면동명을 행정동명으로 바꾸기"
   ]
  },
  {
   "cell_type": "code",
   "execution_count": 328,
   "id": "f5899cd7",
   "metadata": {},
   "outputs": [],
   "source": [
    "eup_list = set(df1['읍면동'].unique())\n",
    "hang_list = set(df3['행정동'].unique())"
   ]
  },
  {
   "cell_type": "code",
   "execution_count": 329,
   "id": "58833c69",
   "metadata": {},
   "outputs": [],
   "source": [
    "common_names = eup_list.intersection(hang_list)"
   ]
  },
  {
   "cell_type": "code",
   "execution_count": 288,
   "id": "b7c3ffdd",
   "metadata": {},
   "outputs": [
    {
     "name": "stdout",
     "output_type": "stream",
     "text": [
      "['가음정동', '가포동', '경화동', '교방동', '구산면', '내서읍', '대산면', '덕산동', '동읍', '봉림동', '봉암동', '북면', '사파동', '산호동', '상남동', '석동', '석전동', '성주동', '여좌동', '오동동', '완월동', '월영동', '이동', '자산동', '자은동', '중앙동', '진동면', '진북면', '진전면', '충무동', '풍호동', '현동', '회성동']\n"
     ]
    }
   ],
   "source": [
    "print(sorted(common_names))"
   ]
  },
  {
   "cell_type": "markdown",
   "id": "8c0a412c",
   "metadata": {},
   "source": [
    "- 읍면동 = 행정동인 데이터는 그대로 냅두기\n",
    "- 읍면동 != 행정동인 데이터 추가 전처리"
   ]
  },
  {
   "cell_type": "markdown",
   "id": "3b62057a",
   "metadata": {},
   "source": [
    "#### 1. 읍면동 = 행정동인 데이터"
   ]
  },
  {
   "cell_type": "code",
   "execution_count": 330,
   "id": "d80afa23",
   "metadata": {},
   "outputs": [
    {
     "data": {
      "text/html": [
       "<div>\n",
       "<style scoped>\n",
       "    .dataframe tbody tr th:only-of-type {\n",
       "        vertical-align: middle;\n",
       "    }\n",
       "\n",
       "    .dataframe tbody tr th {\n",
       "        vertical-align: top;\n",
       "    }\n",
       "\n",
       "    .dataframe thead th {\n",
       "        text-align: right;\n",
       "    }\n",
       "</style>\n",
       "<table border=\"1\" class=\"dataframe\">\n",
       "  <thead>\n",
       "    <tr style=\"text-align: right;\">\n",
       "      <th></th>\n",
       "      <th>요양기관명</th>\n",
       "      <th>종별코드명</th>\n",
       "      <th>시군구코드명</th>\n",
       "      <th>읍면동</th>\n",
       "      <th>우편번호</th>\n",
       "      <th>주소</th>\n",
       "      <th>총의사수</th>\n",
       "      <th>의과일반의 인원수</th>\n",
       "      <th>좌표(X)</th>\n",
       "      <th>좌표(Y)</th>\n",
       "    </tr>\n",
       "  </thead>\n",
       "  <tbody>\n",
       "    <tr>\n",
       "      <th>2</th>\n",
       "      <td>근로복지공단 창원병원</td>\n",
       "      <td>종합병원</td>\n",
       "      <td>창원성산구</td>\n",
       "      <td>중앙동</td>\n",
       "      <td>51524</td>\n",
       "      <td>경상남도 창원시 성산구 창원대로 721 (중앙동)</td>\n",
       "      <td>30</td>\n",
       "      <td>2</td>\n",
       "      <td>128.671751</td>\n",
       "      <td>35.218754</td>\n",
       "    </tr>\n",
       "    <tr>\n",
       "      <th>3</th>\n",
       "      <td>연세에스병원</td>\n",
       "      <td>종합병원</td>\n",
       "      <td>창원진해구</td>\n",
       "      <td>이동</td>\n",
       "      <td>51659</td>\n",
       "      <td>경상남도 창원시 진해구 해원로32번길 13 (이동)</td>\n",
       "      <td>23</td>\n",
       "      <td>1</td>\n",
       "      <td>128.698149</td>\n",
       "      <td>35.154933</td>\n",
       "    </tr>\n",
       "    <tr>\n",
       "      <th>7</th>\n",
       "      <td>창원경상국립대학교병원</td>\n",
       "      <td>종합병원</td>\n",
       "      <td>창원성산구</td>\n",
       "      <td>성주동</td>\n",
       "      <td>51472</td>\n",
       "      <td>경상남도 창원시 성산구 삼정자로 11 (성주동, 창원경상대학교병원)</td>\n",
       "      <td>177</td>\n",
       "      <td>0</td>\n",
       "      <td>128.707846</td>\n",
       "      <td>35.199087</td>\n",
       "    </tr>\n",
       "  </tbody>\n",
       "</table>\n",
       "</div>"
      ],
      "text/plain": [
       "         요양기관명 종별코드명 시군구코드명  읍면동   우편번호  \\\n",
       "2  근로복지공단 창원병원  종합병원  창원성산구  중앙동  51524   \n",
       "3       연세에스병원  종합병원  창원진해구   이동  51659   \n",
       "7  창원경상국립대학교병원  종합병원  창원성산구  성주동  51472   \n",
       "\n",
       "                                      주소  총의사수  의과일반의 인원수       좌표(X)  \\\n",
       "2            경상남도 창원시 성산구 창원대로 721 (중앙동)    30          2  128.671751   \n",
       "3           경상남도 창원시 진해구 해원로32번길 13 (이동)    23          1  128.698149   \n",
       "7  경상남도 창원시 성산구 삼정자로 11 (성주동, 창원경상대학교병원)   177          0  128.707846   \n",
       "\n",
       "       좌표(Y)  \n",
       "2  35.218754  \n",
       "3  35.154933  \n",
       "7  35.199087  "
      ]
     },
     "execution_count": 330,
     "metadata": {},
     "output_type": "execute_result"
    }
   ],
   "source": [
    "common_df1 = df1[df1['읍면동'].isin(common_names)]\n",
    "common_df1.head(3)"
   ]
  },
  {
   "cell_type": "markdown",
   "id": "49d8b610",
   "metadata": {},
   "source": [
    "#### 2. 읍면동 != 행정동인 데이터"
   ]
  },
  {
   "cell_type": "code",
   "execution_count": 331,
   "id": "75085e3c",
   "metadata": {},
   "outputs": [
    {
     "data": {
      "text/html": [
       "<div>\n",
       "<style scoped>\n",
       "    .dataframe tbody tr th:only-of-type {\n",
       "        vertical-align: middle;\n",
       "    }\n",
       "\n",
       "    .dataframe tbody tr th {\n",
       "        vertical-align: top;\n",
       "    }\n",
       "\n",
       "    .dataframe thead th {\n",
       "        text-align: right;\n",
       "    }\n",
       "</style>\n",
       "<table border=\"1\" class=\"dataframe\">\n",
       "  <thead>\n",
       "    <tr style=\"text-align: right;\">\n",
       "      <th></th>\n",
       "      <th>요양기관명</th>\n",
       "      <th>종별코드명</th>\n",
       "      <th>시군구코드명</th>\n",
       "      <th>읍면동</th>\n",
       "      <th>우편번호</th>\n",
       "      <th>주소</th>\n",
       "      <th>총의사수</th>\n",
       "      <th>의과일반의 인원수</th>\n",
       "      <th>좌표(X)</th>\n",
       "      <th>좌표(Y)</th>\n",
       "    </tr>\n",
       "  </thead>\n",
       "  <tbody>\n",
       "    <tr>\n",
       "      <th>0</th>\n",
       "      <td>학교법인성균관대학삼성창원병원</td>\n",
       "      <td>상급종합</td>\n",
       "      <td>창원마산회원구</td>\n",
       "      <td>합성동</td>\n",
       "      <td>51353</td>\n",
       "      <td>경상남도 창원시 마산회원구 팔용로 158-158 (합성동, 삼성창원병원)</td>\n",
       "      <td>292</td>\n",
       "      <td>1</td>\n",
       "      <td>128.592025</td>\n",
       "      <td>35.242877</td>\n",
       "    </tr>\n",
       "    <tr>\n",
       "      <th>1</th>\n",
       "      <td>경상남도마산의료원</td>\n",
       "      <td>종합병원</td>\n",
       "      <td>창원마산합포구</td>\n",
       "      <td>중앙동3가</td>\n",
       "      <td>51736</td>\n",
       "      <td>경상남도 창원시 마산합포구 3·15대로 231 (중앙동3가)</td>\n",
       "      <td>21</td>\n",
       "      <td>1</td>\n",
       "      <td>128.565597</td>\n",
       "      <td>35.199237</td>\n",
       "    </tr>\n",
       "    <tr>\n",
       "      <th>4</th>\n",
       "      <td>의료법인석영의료재단창원제일종합병원</td>\n",
       "      <td>종합병원</td>\n",
       "      <td>창원마산합포구</td>\n",
       "      <td>중앙동3가</td>\n",
       "      <td>51732</td>\n",
       "      <td>경상남도 창원시 마산합포구 3·15대로 238 (중앙동3가)</td>\n",
       "      <td>15</td>\n",
       "      <td>0</td>\n",
       "      <td>128.567600</td>\n",
       "      <td>35.199085</td>\n",
       "    </tr>\n",
       "  </tbody>\n",
       "</table>\n",
       "</div>"
      ],
      "text/plain": [
       "                요양기관명 종별코드명   시군구코드명    읍면동   우편번호  \\\n",
       "0     학교법인성균관대학삼성창원병원  상급종합  창원마산회원구    합성동  51353   \n",
       "1           경상남도마산의료원  종합병원  창원마산합포구  중앙동3가  51736   \n",
       "4  의료법인석영의료재단창원제일종합병원  종합병원  창원마산합포구  중앙동3가  51732   \n",
       "\n",
       "                                         주소  총의사수  의과일반의 인원수       좌표(X)  \\\n",
       "0  경상남도 창원시 마산회원구 팔용로 158-158 (합성동, 삼성창원병원)   292          1  128.592025   \n",
       "1         경상남도 창원시 마산합포구 3·15대로 231 (중앙동3가)    21          1  128.565597   \n",
       "4         경상남도 창원시 마산합포구 3·15대로 238 (중앙동3가)    15          0  128.567600   \n",
       "\n",
       "       좌표(Y)  \n",
       "0  35.242877  \n",
       "1  35.199237  \n",
       "4  35.199085  "
      ]
     },
     "execution_count": 331,
     "metadata": {},
     "output_type": "execute_result"
    }
   ],
   "source": [
    "uncommon_df1 = df1[~df1['읍면동'].isin(common_names)]\n",
    "uncommon_df1.head(3)"
   ]
  },
  {
   "cell_type": "code",
   "execution_count": 217,
   "id": "0fdb6218",
   "metadata": {},
   "outputs": [
    {
     "data": {
      "text/plain": [
       "array(['합성동', '중앙동3가', '월남동2가', '명서동', '사림동', '팔용동', '서상동', '중앙동2가',\n",
       "       '창포동3가', '용원동', '남성동', '소계동', '양덕동', '신포동2가', '장천동', '동성동', '중동',\n",
       "       '남양동', '봉곡동', '신촌동', '반지동', '반림동', '성산동', '가음동', '서성동', '신월동',\n",
       "       '회원동', '용호동', '해운동', '대방동', '대원동', '두월동1가', '남문동', '내동', '도계동',\n",
       "       '귀곡동', '월남동5가', '소답동', '송학동', '수성동', '구암동', '월남동4가', '안민동', '마천동',\n",
       "       '부림동', '장군동3가', '남산동', '북동', '동정동', '창동', '중앙동1가', '중성동', '내서읍 ',\n",
       "       '동읍 ', '교원동', '북면  ', '청안동', '월남동3가', '화천동', '안골동', '태평동', '장군동5가',\n",
       "       '월남동1가', '장군동4가', '창선동', '근화동'], dtype=object)"
      ]
     },
     "execution_count": 217,
     "metadata": {},
     "output_type": "execute_result"
    }
   ],
   "source": [
    "uncommon_df1['읍면동'].unique()"
   ]
  },
  {
   "cell_type": "markdown",
   "id": "2b201b9e",
   "metadata": {},
   "source": [
    "동읍이 잇는데 '동읍 ' 한칸띄어져있어서 추가된듯"
   ]
  },
  {
   "cell_type": "markdown",
   "id": "bfb902db",
   "metadata": {},
   "source": [
    "#### 3. 읍면동 -> 행정동 변환을 위한 데이터프레임 생성\n",
    "https://www.changwon.go.kr/cwportal/10671/10672/10679.web 참고"
   ]
  },
  {
   "cell_type": "code",
   "execution_count": 332,
   "id": "1f5ddc80",
   "metadata": {},
   "outputs": [],
   "source": [
    "data = {\n",
    "    '읍면동': ['명서동', '월남동', '합성동', '반지동', '사림동', '팔용동', '소계동', '봉곡동', '남양동', '서상동', '신촌동', '양덕동', '남성동', '동성동'],\n",
    "    '행정동': ['명곡동', '문화동', '석전동', '반송동', '봉림동', '팔룡동', '팔룡동', '봉림동', '웅동1동', '의창동', '웅남동', '양덕2동', '오동동', '오동동']\n",
    "}\n",
    "\n",
    "new_df = pd.DataFrame(data, columns=['읍면동', '행정동'])\n",
    "new_df.columns = ['읍면동', '행정동']"
   ]
  },
  {
   "cell_type": "code",
   "execution_count": 333,
   "id": "9976a608",
   "metadata": {},
   "outputs": [],
   "source": [
    "additional_data = {\n",
    "    '읍면동': ['마천동', '대흥동', '송학동', '성산동', '교원동', '중성동', '청안동', '창선동', '화천동', '안골동', '귀곡동', '남산동'],\n",
    "    '행정동': ['웅동1동', '충무동', '충무동', '웅남동', '교방동', '오동동', '웅동2동', '충무동', '충무동', '웅동2동', '웅남동', '사파동']\n",
    "}\n",
    "\n",
    "additional_df = pd.DataFrame(additional_data, columns=['읍면동', '행정동'])\n",
    "new_df = pd.concat([new_df, additional_df], ignore_index=True)\n",
    "new_df.columns = ['읍면동', '행정동']"
   ]
  },
  {
   "cell_type": "code",
   "execution_count": 334,
   "id": "1ab0d2f6",
   "metadata": {},
   "outputs": [],
   "source": [
    "additional_data2 = {\n",
    "    '읍면동': ['용원동', '용호동', '반계동', '소답동', '대원동', '해운동', '대성동', '덕동동', '두척동', '구암동', '회원동', '동서동', '장천동', '도계동'],\n",
    "    '행정동': ['웅동2동', '용지동', '팔룡동', '의창동', '팔룡동', '월용동', '반월중앙동', '현동', '회성동', '구암2동', '회원2동', '오동동', '풍호동', '명곡동']\n",
    "}\n",
    "\n",
    "additional_df2 = pd.DataFrame(additional_data2, columns=['읍면동', '행정동'])\n",
    "new_df = pd.concat([new_df, additional_df2], ignore_index=True)\n",
    "new_df.columns = ['읍면동', '행정동']"
   ]
  },
  {
   "cell_type": "code",
   "execution_count": 335,
   "id": "ebaf2e24",
   "metadata": {},
   "outputs": [],
   "source": [
    "additional_data3 = {\n",
    "    '읍면동': ['가음동', '반림동', '동정동', '대방동', '신월동', '안민동', '수성동', '서성동', '신포동', '장군동', '두월동', '부림동', '남문동'],\n",
    "    '행정동': ['가음정동', '반송동', '의창동', '사파동', '용지동', '성주동', '반월중앙동', '오동동', '오동동', '완월동', '문화동', '오동동', '웅천동']\n",
    "}\n",
    "\n",
    "additional_df3 = pd.DataFrame(additional_data3, columns=['읍면동', '행정동'])\n",
    "new_df = pd.concat([new_df, additional_df3], ignore_index=True)\n",
    "new_df.columns = ['읍면동', '행정동']"
   ]
  },
  {
   "cell_type": "code",
   "execution_count": 336,
   "id": "988b9bcb",
   "metadata": {},
   "outputs": [],
   "source": [
    "kkk = pd.merge(new_df, uncommon_df1, on='읍면동', how='right')"
   ]
  },
  {
   "cell_type": "markdown",
   "id": "bc2a3a48",
   "metadata": {},
   "source": [
    "그럼에도 행정동 없는애들이 있어 별도로 처리..."
   ]
  },
  {
   "cell_type": "code",
   "execution_count": 337,
   "id": "9e3ea606",
   "metadata": {},
   "outputs": [],
   "source": [
    "null = kkk[kkk['행정동'].isnull()] "
   ]
  },
  {
   "cell_type": "code",
   "execution_count": 338,
   "id": "ec0d968c",
   "metadata": {},
   "outputs": [
    {
     "name": "stderr",
     "output_type": "stream",
     "text": [
      "C:\\Users\\koaro\\AppData\\Local\\Temp\\ipykernel_18696\\2573038334.py:29: SettingWithCopyWarning: \n",
      "A value is trying to be set on a copy of a slice from a DataFrame.\n",
      "Try using .loc[row_indexer,col_indexer] = value instead\n",
      "\n",
      "See the caveats in the documentation: https://pandas.pydata.org/pandas-docs/stable/user_guide/indexing.html#returning-a-view-versus-a-copy\n",
      "  null['행정동'] = null['읍면동'].map(mapping_dict)\n"
     ]
    }
   ],
   "source": [
    "mapping_dict = {\n",
    "    '근화동': '충무동',\n",
    "    '내동': '중앙동',\n",
    "    '내서읍 ': '내서읍',\n",
    "    '동읍 ': '동읍',\n",
    "    '두월동1가': '문화동',\n",
    "    '북동': '의창동',\n",
    "    '북면  ': '북면',\n",
    "    '신포동2가': '오동동',\n",
    "    '월남동1가': '문화동',\n",
    "    '월남동2가': '문화동',\n",
    "    '월남동3가': '문화동',\n",
    "    '월남동4가': '문화동',\n",
    "    '월남동5가': '문화동',\n",
    "    '장군동': '반월중앙동',\n",
    "    '장군동3가': '반월중앙동',\n",
    "    '장군동4가': '반월중앙동',\n",
    "    '장군동5가': '반월중앙동',\n",
    "    '중동': '의창동',\n",
    "    '중앙동1가': '중앙동',\n",
    "    '중앙동2가': '중앙동',\n",
    "    '중앙동3가': '중앙동',\n",
    "    '창동': '오동동',\n",
    "    '창포동3가': '문화동',\n",
    "    '태평동': '충무동'\n",
    "}\n",
    "\n",
    "# Step 2: Map the '읍면동' column with the '행정동' values using the mapping dictionary\n",
    "null['행정동'] = null['읍면동'].map(mapping_dict)"
   ]
  },
  {
   "cell_type": "code",
   "execution_count": 339,
   "id": "bd97e6d4",
   "metadata": {},
   "outputs": [
    {
     "data": {
      "text/plain": [
       "읍면동          0\n",
       "행정동          0\n",
       "요양기관명        0\n",
       "종별코드명        0\n",
       "시군구코드명       0\n",
       "우편번호         0\n",
       "주소           0\n",
       "총의사수         0\n",
       "의과일반의 인원수    0\n",
       "좌표(X)        0\n",
       "좌표(Y)        0\n",
       "dtype: int64"
      ]
     },
     "execution_count": 339,
     "metadata": {},
     "output_type": "execute_result"
    }
   ],
   "source": [
    "null.isnull().sum()"
   ]
  },
  {
   "cell_type": "markdown",
   "id": "a55da26d",
   "metadata": {},
   "source": [
    "### 최종 합체\n",
    "- common_df1 (행정동=읍면동)\n",
    "- kkk (행정동 != 읍면동 1차 가공)\n",
    "- null (행정동 != 읍면동 2차 가공)"
   ]
  },
  {
   "cell_type": "code",
   "execution_count": 340,
   "id": "b5f9d9e2",
   "metadata": {},
   "outputs": [
    {
     "name": "stderr",
     "output_type": "stream",
     "text": [
      "C:\\Users\\koaro\\AppData\\Local\\Temp\\ipykernel_18696\\2248375949.py:1: SettingWithCopyWarning: \n",
      "A value is trying to be set on a copy of a slice from a DataFrame.\n",
      "Try using .loc[row_indexer,col_indexer] = value instead\n",
      "\n",
      "See the caveats in the documentation: https://pandas.pydata.org/pandas-docs/stable/user_guide/indexing.html#returning-a-view-versus-a-copy\n",
      "  common_df1['행정동'] = common_df1['읍면동']\n"
     ]
    }
   ],
   "source": [
    "common_df1['행정동'] = common_df1['읍면동']\n",
    "\n",
    "kkk = kkk[~kkk['행정동'].isnull()] \n",
    "\n",
    "final = pd.concat([common_df1, kkk], ignore_index=True)\n",
    "\n",
    "final = pd.concat([final, null], ignore_index=True) # \n",
    "\n",
    "final = final[~final['요양기관명'].str.contains('피부')] #  피부과 뺸다 만다?"
   ]
  },
  {
   "cell_type": "code",
   "execution_count": 341,
   "id": "48192e87",
   "metadata": {},
   "outputs": [
    {
     "data": {
      "text/plain": [
       "array(['중앙동', '이동', '성주동', '석전동', '상남동', '가포동', '자은동', '오동동', '가음정동',\n",
       "       '산호동', '월영동', '석동', '여좌동', '진동면', '회성동', '사파동', '풍호동', '교방동',\n",
       "       '경화동', '충무동', '봉암동', '현동', '자산동', '덕산동', '봉림동', '완월동', '동읍', '내서읍',\n",
       "       '북면', '대산면', '구산면', '진북면', '진전면', '명곡동', '팔룡동', '의창동', '웅동2동',\n",
       "       '양덕2동', '웅동1동', '웅남동', '반송동', '용지동', '회원2동', '월용동', '웅천동', '반월중앙동',\n",
       "       '구암2동', '문화동'], dtype=object)"
      ]
     },
     "execution_count": 341,
     "metadata": {},
     "output_type": "execute_result"
    }
   ],
   "source": [
    "final['행정동'].unique()"
   ]
  },
  {
   "cell_type": "code",
   "execution_count": 344,
   "id": "3df1905c",
   "metadata": {},
   "outputs": [],
   "source": [
    "final.to_csv('07_29_병원전처리_규영.csv', encoding='cp949', index=False)"
   ]
  },
  {
   "cell_type": "code",
   "execution_count": 342,
   "id": "428983f0",
   "metadata": {},
   "outputs": [
    {
     "data": {
      "text/html": [
       "<div>\n",
       "<style scoped>\n",
       "    .dataframe tbody tr th:only-of-type {\n",
       "        vertical-align: middle;\n",
       "    }\n",
       "\n",
       "    .dataframe tbody tr th {\n",
       "        vertical-align: top;\n",
       "    }\n",
       "\n",
       "    .dataframe thead th {\n",
       "        text-align: right;\n",
       "    }\n",
       "</style>\n",
       "<table border=\"1\" class=\"dataframe\">\n",
       "  <thead>\n",
       "    <tr style=\"text-align: right;\">\n",
       "      <th></th>\n",
       "      <th>행정동</th>\n",
       "      <th>요양기관수</th>\n",
       "    </tr>\n",
       "  </thead>\n",
       "  <tbody>\n",
       "    <tr>\n",
       "      <th>19</th>\n",
       "      <td>상남동</td>\n",
       "      <td>163</td>\n",
       "    </tr>\n",
       "    <tr>\n",
       "      <th>21</th>\n",
       "      <td>석전동</td>\n",
       "      <td>102</td>\n",
       "    </tr>\n",
       "    <tr>\n",
       "      <th>38</th>\n",
       "      <td>중앙동</td>\n",
       "      <td>61</td>\n",
       "    </tr>\n",
       "    <tr>\n",
       "      <th>25</th>\n",
       "      <td>오동동</td>\n",
       "      <td>61</td>\n",
       "    </tr>\n",
       "    <tr>\n",
       "      <th>43</th>\n",
       "      <td>팔룡동</td>\n",
       "      <td>57</td>\n",
       "    </tr>\n",
       "    <tr>\n",
       "      <th>34</th>\n",
       "      <td>의창동</td>\n",
       "      <td>56</td>\n",
       "    </tr>\n",
       "    <tr>\n",
       "      <th>6</th>\n",
       "      <td>내서읍</td>\n",
       "      <td>55</td>\n",
       "    </tr>\n",
       "    <tr>\n",
       "      <th>17</th>\n",
       "      <td>사파동</td>\n",
       "      <td>49</td>\n",
       "    </tr>\n",
       "    <tr>\n",
       "      <th>14</th>\n",
       "      <td>봉림동</td>\n",
       "      <td>42</td>\n",
       "    </tr>\n",
       "    <tr>\n",
       "      <th>10</th>\n",
       "      <td>명곡동</td>\n",
       "      <td>38</td>\n",
       "    </tr>\n",
       "    <tr>\n",
       "      <th>30</th>\n",
       "      <td>웅동2동</td>\n",
       "      <td>36</td>\n",
       "    </tr>\n",
       "    <tr>\n",
       "      <th>27</th>\n",
       "      <td>용지동</td>\n",
       "      <td>34</td>\n",
       "    </tr>\n",
       "    <tr>\n",
       "      <th>20</th>\n",
       "      <td>석동</td>\n",
       "      <td>34</td>\n",
       "    </tr>\n",
       "    <tr>\n",
       "      <th>33</th>\n",
       "      <td>월용동</td>\n",
       "      <td>34</td>\n",
       "    </tr>\n",
       "    <tr>\n",
       "      <th>23</th>\n",
       "      <td>양덕2동</td>\n",
       "      <td>33</td>\n",
       "    </tr>\n",
       "    <tr>\n",
       "      <th>47</th>\n",
       "      <td>회원2동</td>\n",
       "      <td>27</td>\n",
       "    </tr>\n",
       "    <tr>\n",
       "      <th>12</th>\n",
       "      <td>반송동</td>\n",
       "      <td>27</td>\n",
       "    </tr>\n",
       "    <tr>\n",
       "      <th>16</th>\n",
       "      <td>북면</td>\n",
       "      <td>24</td>\n",
       "    </tr>\n",
       "    <tr>\n",
       "      <th>42</th>\n",
       "      <td>충무동</td>\n",
       "      <td>24</td>\n",
       "    </tr>\n",
       "    <tr>\n",
       "      <th>29</th>\n",
       "      <td>웅동1동</td>\n",
       "      <td>24</td>\n",
       "    </tr>\n",
       "    <tr>\n",
       "      <th>44</th>\n",
       "      <td>풍호동</td>\n",
       "      <td>22</td>\n",
       "    </tr>\n",
       "    <tr>\n",
       "      <th>37</th>\n",
       "      <td>자은동</td>\n",
       "      <td>19</td>\n",
       "    </tr>\n",
       "    <tr>\n",
       "      <th>11</th>\n",
       "      <td>문화동</td>\n",
       "      <td>17</td>\n",
       "    </tr>\n",
       "    <tr>\n",
       "      <th>18</th>\n",
       "      <td>산호동</td>\n",
       "      <td>17</td>\n",
       "    </tr>\n",
       "    <tr>\n",
       "      <th>39</th>\n",
       "      <td>진동면</td>\n",
       "      <td>16</td>\n",
       "    </tr>\n",
       "    <tr>\n",
       "      <th>0</th>\n",
       "      <td>가음정동</td>\n",
       "      <td>16</td>\n",
       "    </tr>\n",
       "    <tr>\n",
       "      <th>24</th>\n",
       "      <td>여좌동</td>\n",
       "      <td>15</td>\n",
       "    </tr>\n",
       "    <tr>\n",
       "      <th>2</th>\n",
       "      <td>경화동</td>\n",
       "      <td>15</td>\n",
       "    </tr>\n",
       "    <tr>\n",
       "      <th>22</th>\n",
       "      <td>성주동</td>\n",
       "      <td>15</td>\n",
       "    </tr>\n",
       "    <tr>\n",
       "      <th>35</th>\n",
       "      <td>이동</td>\n",
       "      <td>14</td>\n",
       "    </tr>\n",
       "    <tr>\n",
       "      <th>9</th>\n",
       "      <td>동읍</td>\n",
       "      <td>14</td>\n",
       "    </tr>\n",
       "    <tr>\n",
       "      <th>5</th>\n",
       "      <td>구암2동</td>\n",
       "      <td>9</td>\n",
       "    </tr>\n",
       "    <tr>\n",
       "      <th>28</th>\n",
       "      <td>웅남동</td>\n",
       "      <td>9</td>\n",
       "    </tr>\n",
       "    <tr>\n",
       "      <th>31</th>\n",
       "      <td>웅천동</td>\n",
       "      <td>7</td>\n",
       "    </tr>\n",
       "    <tr>\n",
       "      <th>45</th>\n",
       "      <td>현동</td>\n",
       "      <td>7</td>\n",
       "    </tr>\n",
       "    <tr>\n",
       "      <th>36</th>\n",
       "      <td>자산동</td>\n",
       "      <td>6</td>\n",
       "    </tr>\n",
       "    <tr>\n",
       "      <th>13</th>\n",
       "      <td>반월중앙동</td>\n",
       "      <td>5</td>\n",
       "    </tr>\n",
       "    <tr>\n",
       "      <th>3</th>\n",
       "      <td>교방동</td>\n",
       "      <td>5</td>\n",
       "    </tr>\n",
       "    <tr>\n",
       "      <th>46</th>\n",
       "      <td>회성동</td>\n",
       "      <td>5</td>\n",
       "    </tr>\n",
       "    <tr>\n",
       "      <th>7</th>\n",
       "      <td>대산면</td>\n",
       "      <td>5</td>\n",
       "    </tr>\n",
       "    <tr>\n",
       "      <th>32</th>\n",
       "      <td>월영동</td>\n",
       "      <td>4</td>\n",
       "    </tr>\n",
       "    <tr>\n",
       "      <th>41</th>\n",
       "      <td>진전면</td>\n",
       "      <td>4</td>\n",
       "    </tr>\n",
       "    <tr>\n",
       "      <th>4</th>\n",
       "      <td>구산면</td>\n",
       "      <td>3</td>\n",
       "    </tr>\n",
       "    <tr>\n",
       "      <th>26</th>\n",
       "      <td>완월동</td>\n",
       "      <td>2</td>\n",
       "    </tr>\n",
       "    <tr>\n",
       "      <th>15</th>\n",
       "      <td>봉암동</td>\n",
       "      <td>2</td>\n",
       "    </tr>\n",
       "    <tr>\n",
       "      <th>8</th>\n",
       "      <td>덕산동</td>\n",
       "      <td>2</td>\n",
       "    </tr>\n",
       "    <tr>\n",
       "      <th>40</th>\n",
       "      <td>진북면</td>\n",
       "      <td>1</td>\n",
       "    </tr>\n",
       "    <tr>\n",
       "      <th>1</th>\n",
       "      <td>가포동</td>\n",
       "      <td>1</td>\n",
       "    </tr>\n",
       "  </tbody>\n",
       "</table>\n",
       "</div>"
      ],
      "text/plain": [
       "      행정동  요양기관수\n",
       "19    상남동    163\n",
       "21    석전동    102\n",
       "38    중앙동     61\n",
       "25    오동동     61\n",
       "43    팔룡동     57\n",
       "34    의창동     56\n",
       "6     내서읍     55\n",
       "17    사파동     49\n",
       "14    봉림동     42\n",
       "10    명곡동     38\n",
       "30   웅동2동     36\n",
       "27    용지동     34\n",
       "20     석동     34\n",
       "33    월용동     34\n",
       "23   양덕2동     33\n",
       "47   회원2동     27\n",
       "12    반송동     27\n",
       "16     북면     24\n",
       "42    충무동     24\n",
       "29   웅동1동     24\n",
       "44    풍호동     22\n",
       "37    자은동     19\n",
       "11    문화동     17\n",
       "18    산호동     17\n",
       "39    진동면     16\n",
       "0    가음정동     16\n",
       "24    여좌동     15\n",
       "2     경화동     15\n",
       "22    성주동     15\n",
       "35     이동     14\n",
       "9      동읍     14\n",
       "5    구암2동      9\n",
       "28    웅남동      9\n",
       "31    웅천동      7\n",
       "45     현동      7\n",
       "36    자산동      6\n",
       "13  반월중앙동      5\n",
       "3     교방동      5\n",
       "46    회성동      5\n",
       "7     대산면      5\n",
       "32    월영동      4\n",
       "41    진전면      4\n",
       "4     구산면      3\n",
       "26    완월동      2\n",
       "15    봉암동      2\n",
       "8     덕산동      2\n",
       "40    진북면      1\n",
       "1     가포동      1"
      ]
     },
     "execution_count": 342,
     "metadata": {},
     "output_type": "execute_result"
    }
   ],
   "source": [
    "final.groupby('행정동')['요양기관명'].size().reset_index(name='요양기관수').sort_values(by='요양기관수', ascending=False)"
   ]
  }
 ],
 "metadata": {
  "kernelspec": {
   "display_name": "Python 3 (ipykernel)",
   "language": "python",
   "name": "python3"
  },
  "language_info": {
   "codemirror_mode": {
    "name": "ipython",
    "version": 3
   },
   "file_extension": ".py",
   "mimetype": "text/x-python",
   "name": "python",
   "nbconvert_exporter": "python",
   "pygments_lexer": "ipython3",
   "version": "3.9.13"
  }
 },
 "nbformat": 4,
 "nbformat_minor": 5
}
